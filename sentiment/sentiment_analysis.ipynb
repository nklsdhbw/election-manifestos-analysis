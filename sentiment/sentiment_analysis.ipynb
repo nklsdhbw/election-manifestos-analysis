{
 "cells": [
  {
   "cell_type": "markdown",
   "metadata": {},
   "source": [
    "# **Sentiment Analysis**"
   ]
  },
  {
   "cell_type": "markdown",
   "metadata": {},
   "source": [
    "## **Imports**"
   ]
  },
  {
   "cell_type": "code",
   "execution_count": 1,
   "metadata": {},
   "outputs": [],
   "source": [
    "#python -m spacy download de_core_news_sm\n",
    "from germansentiment import SentimentModel\n",
    "import spacy\n",
    "import pandas as pd\n",
    "import matplotlib.pyplot as plt\n",
    "import seaborn as sns\n",
    "from IPython.display import display, HTML\n",
    "from IPython.display import display"
   ]
  },
  {
   "cell_type": "markdown",
   "metadata": {},
   "source": [
    "## **Sentiment**"
   ]
  },
  {
   "cell_type": "markdown",
   "metadata": {},
   "source": [
    "### German Sentiment Model\n",
    "\n",
    "https://huggingface.co/oliverguhr/german-sentiment-bert?text=Da+sisrt+super"
   ]
  },
  {
   "cell_type": "markdown",
   "metadata": {},
   "source": [
    "## **Sentiment Functions**"
   ]
  },
  {
   "cell_type": "code",
   "execution_count": 2,
   "metadata": {},
   "outputs": [],
   "source": [
    "def analyze_manifesto_sentiment(manifesto_path, party=\"NaN\"):\n",
    "    nlp = spacy.load(\"de_core_news_sm\")\n",
    "    \n",
    "    with open(manifesto_path, 'r', encoding='utf-8') as file:\n",
    "        manifesto_text = file.read()\n",
    "\n",
    "    # Teile den Text in Abschnitte auf\n",
    "    sections = manifesto_text.split('. ')  \n",
    "\n",
    "    data = {'Section': [], 'Sentiment': [], 'Score': []}\n",
    "\n",
    "    model = SentimentModel() \n",
    "\n",
    "    for section in sections:\n",
    "        pred_class, probabilities = model.predict_sentiment([section], output_probabilities=True)\n",
    "        max_probability = max(probabilities[0], key=lambda x: x[1])[1]\n",
    "\n",
    "        data['Section'].append(section)\n",
    "        data['Sentiment'].append(pred_class[0])\n",
    "        data['Score'].append(max_probability)\n",
    "\n",
    "    df_sections = pd.DataFrame(data)\n",
    "    df_sections.to_csv(f'{party}_sentiment_results.csv', index=False)\n",
    "\n",
    "    print(f\"Sentiment for [{manifesto_path}] analized!\")\n",
    "\n",
    "    return df_sections\n",
    "\n",
    "def plot_sentiment_distribution(df):\n",
    "    sentiment_counts = df['Sentiment'].value_counts()\n",
    "\n",
    "    plt.figure(figsize=(8, 6))\n",
    "    sentiment_counts.plot(kind='bar', color='skyblue')\n",
    "    plt.title('Sentiment Distribution')\n",
    "    plt.xlabel('Sentiment')\n",
    "    plt.ylabel('Count')\n",
    "    plt.xticks(rotation=45)\n",
    "    plt.tight_layout()\n",
    "    plt.show()"
   ]
  },
  {
   "cell_type": "markdown",
   "metadata": {},
   "source": [
    "## **CDU CSU**"
   ]
  },
  {
   "cell_type": "code",
   "execution_count": 3,
   "metadata": {},
   "outputs": [
    {
     "name": "stdout",
     "output_type": "stream",
     "text": [
      "Sentiment for [../python/data_preprocessing/output/CDU-CSU.txt] analized!\n"
     ]
    },
    {
     "data": {
      "image/png": "[encoded data removed]",
      "text/plain": [
       "<Figure size 576x432 with 1 Axes>"
      ]
     },
     "metadata": {
      "needs_background": "light"
     },
     "output_type": "display_data"
    }
   ],
   "source": [
    "cdu_sentiment = analyze_manifesto_sentiment(\"../python/data_preprocessing/output/CDU-CSU.txt\", \"cdu_csu\")\n",
    "plot_sentiment_distribution(cdu_sentiment)"
   ]
  },
  {
   "cell_type": "code",
   "execution_count": 12,
   "metadata": {},
   "outputs": [
    {
     "data": {
      "text/html": [
       "<div>\n",
       "<style scoped>\n",
       "    .dataframe tbody tr th:only-of-type {\n",
       "        vertical-align: middle;\n",
       "    }\n",
       "\n",
       "    .dataframe tbody tr th {\n",
       "        vertical-align: top;\n",
       "    }\n",
       "\n",
       "    .dataframe thead th {\n",
       "        text-align: right;\n",
       "    }\n",
       "</style>\n",
       "<table border=\"1\" class=\"dataframe\">\n",
       "  <thead>\n",
       "    <tr style=\"text-align: right;\">\n",
       "      <th></th>\n",
       "      <th>Section</th>\n",
       "      <th>Sentiment</th>\n",
       "      <th>Score</th>\n",
       "    </tr>\n",
       "  </thead>\n",
       "  <tbody>\n",
       "    <tr>\n",
       "      <th>55</th>\n",
       "      <td>1.1</td>\n",
       "      <td>positive</td>\n",
       "      <td>0.969761</td>\n",
       "    </tr>\n",
       "    <tr>\n",
       "      <th>76</th>\n",
       "      <td>1.2</td>\n",
       "      <td>positive</td>\n",
       "      <td>0.932856</td>\n",
       "    </tr>\n",
       "    <tr>\n",
       "      <th>84</th>\n",
       "      <td>1.3</td>\n",
       "      <td>positive</td>\n",
       "      <td>0.951365</td>\n",
       "    </tr>\n",
       "    <tr>\n",
       "      <th>114</th>\n",
       "      <td>1.4</td>\n",
       "      <td>positive</td>\n",
       "      <td>0.974486</td>\n",
       "    </tr>\n",
       "    <tr>\n",
       "      <th>132</th>\n",
       "      <td>1.5</td>\n",
       "      <td>positive</td>\n",
       "      <td>0.967306</td>\n",
       "    </tr>\n",
       "    <tr>\n",
       "      <th>154</th>\n",
       "      <td>1.7</td>\n",
       "      <td>positive</td>\n",
       "      <td>0.953170</td>\n",
       "    </tr>\n",
       "  </tbody>\n",
       "</table>\n",
       "</div>"
      ],
      "text/plain": [
       "    Section Sentiment     Score\n",
       "55      1.1  positive  0.969761\n",
       "76      1.2  positive  0.932856\n",
       "84      1.3  positive  0.951365\n",
       "114     1.4  positive  0.974486\n",
       "132     1.5  positive  0.967306\n",
       "154     1.7  positive  0.953170"
      ]
     },
     "execution_count": 12,
     "metadata": {},
     "output_type": "execute_result"
    }
   ],
   "source": [
    "cdu_sentiment[cdu_sentiment.Sentiment == \"positive\"]"
   ]
  },
  {
   "cell_type": "markdown",
   "metadata": {},
   "source": [
    "## **SPD**"
   ]
  },
  {
   "cell_type": "code",
   "execution_count": null,
   "metadata": {},
   "outputs": [],
   "source": [
    "spd_sentiment = analyze_manifesto_sentiment(\"../python/data_preprocessing/output/SPD.txt\", \"spd\")\n",
    "plot_sentiment_distribution(spd_sentiment)"
   ]
  },
  {
   "cell_type": "markdown",
   "metadata": {},
   "source": [
    "## **Die Grünen**"
   ]
  },
  {
   "cell_type": "code",
   "execution_count": null,
   "metadata": {},
   "outputs": [],
   "source": [
    "gruen_sentiment = analyze_manifesto_sentiment(\"../python/data_preprocessing/output/DIE_GRUENEN.txt\", \"gruene\")\n",
    "plot_sentiment_distribution(gruen_sentiment)"
   ]
  },
  {
   "cell_type": "markdown",
   "metadata": {},
   "source": [
    "## **FDP**"
   ]
  },
  {
   "cell_type": "code",
   "execution_count": null,
   "metadata": {},
   "outputs": [],
   "source": [
    "fdp_sentiment = analyze_manifesto_sentiment(\"../python/data_preprocessing/output/FDP.txt\", \"fdp\")\n",
    "plot_sentiment_distribution(fdp_sentiment)"
   ]
  },
  {
   "cell_type": "markdown",
   "metadata": {},
   "source": [
    "## **AFD**"
   ]
  },
  {
   "cell_type": "code",
   "execution_count": null,
   "metadata": {},
   "outputs": [],
   "source": [
    "afd_sentiment = analyze_manifesto_sentiment(\"../python/data_preprocessing/output/AFD.txt\", \"afd\")\n",
    "plot_sentiment_distribution(afd_sentiment)"
   ]
  },
  {
   "cell_type": "markdown",
   "metadata": {},
   "source": [
    "## **Linke**"
   ]
  },
  {
   "cell_type": "code",
   "execution_count": null,
   "metadata": {},
   "outputs": [],
   "source": [
    "linke_sentiment = analyze_manifesto_sentiment(\"../python/data_preprocessing/output/DIE_LINKE.txt\", \"die_linke\")\n",
    "plot_sentiment_distribution(linke_sentiment)"
   ]
  },
  {
   "cell_type": "markdown",
   "metadata": {},
   "source": [
    "## **Sentiment characteristics**"
   ]
  },
  {
   "cell_type": "code",
   "execution_count": null,
   "metadata": {},
   "outputs": [],
   "source": [
    "def sentiment_characteristics(dataframes:list, parties:list):\n",
    "\n",
    "    pos_scores = []\n",
    "    neg_scores = []\n",
    "    total_sections_overall = []\n",
    "    \n",
    "    for df in dataframes:\n",
    "        sentiment_counts = df['Sentiment'].value_counts()\n",
    "        sections_total = len(df)\n",
    "        # 0 -> neutral, 1 -> pos, 2 -> neg\n",
    "        pos_score = round((sentiment_counts[1] / (sections_total)) * 100,2 )\n",
    "        neg_score = round((sentiment_counts[2] / (sections_total)) * 100,2 )\n",
    "\n",
    "        pos_scores.append(pos_score)\n",
    "        neg_scores.append(neg_score)\n",
    "        total_sections_overall.append(sections_total)\n",
    "\n",
    "    sizes = [size / 10 for size in total_sections_overall]\n",
    "\n",
    "    plt.figure(figsize=(10, 6))\n",
    "    plt.scatter(pos_scores, neg_scores, color='blue', s=sizes)\n",
    "\n",
    "    for i, party in enumerate(parties):\n",
    "        plt.annotate(party, (pos_scores[i], neg_scores[i]), textcoords=\"offset points\", xytext=(0,5), ha='center')\n",
    "\n",
    "    plt.title('Positiv vs Negativ Sentiment')\n",
    "    plt.xlabel('Positiv (%)')\n",
    "    plt.ylabel('Negativ (%)')\n",
    "    plt.grid(True)\n",
    "    plt.show()\n",
    "    \n",
    "    # csv expoort\n",
    "    results_df = pd.DataFrame({'Partei': parties, 'Positiv': pos_scores, 'Negativ': neg_scores, 'Sentences': total_sections_overall})\n",
    "\n",
    "    # Save to CSV\n",
    "    results_df.to_csv('sentiment_characteristics.csv', index=False)\n",
    "\n",
    "\n"
   ]
  },
  {
   "cell_type": "code",
   "execution_count": null,
   "metadata": {},
   "outputs": [],
   "source": [
    "sentiment_dfs = [\n",
    "    cdu_sentiment,\n",
    "    spd_sentiment,\n",
    "    gruen_sentiment,\n",
    "    fdp_sentiment,\n",
    "    afd_sentiment,\n",
    "    linke_sentiment\n",
    "]\n",
    "\n",
    "parties = [\n",
    "    \"CDU CSU\",\n",
    "    \"SPD\",\n",
    "    \"B90 / Die Grünen\",\n",
    "    \"FDP\",\n",
    "    \"AFD\",\n",
    "    \"Die Linke\"\n",
    "]\n",
    "\n",
    "sentiment_characteristics(sentiment_dfs, parties)"
   ]
  },
  {
   "cell_type": "code",
   "execution_count": null,
   "metadata": {},
   "outputs": [],
   "source": [
    "\"\"\"\n",
    "for index, row in cdu_sentiment.iterrows():\n",
    "    sentiment = row['Sentiment']\n",
    "    paragraph = row['Section']\n",
    "\n",
    "    if sentiment == 'positive':\n",
    "        color = 'green'\n",
    "    elif sentiment == 'negative':\n",
    "        color = 'red'\n",
    "    else:\n",
    "        color = 'black'\n",
    "\n",
    "    display(HTML(f'<font color=\"{color}\">{paragraph}</font>'))\n",
    "\"\"\""
   ]
  }
 ],
 "metadata": {
  "kernelspec": {
   "display_name": "Python 3",
   "language": "python",
   "name": "python3"
  },
  "language_info": {
   "codemirror_mode": {
    "name": "ipython",
    "version": 3
   },
   "file_extension": ".py",
   "mimetype": "text/x-python",
   "name": "python",
   "nbconvert_exporter": "python",
   "pygments_lexer": "ipython3",
   "version": "3.10.0"
  }
 },
 "nbformat": 4,
 "nbformat_minor": 2
}
