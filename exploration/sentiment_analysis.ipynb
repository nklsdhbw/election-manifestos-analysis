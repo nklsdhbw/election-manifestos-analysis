{
 "cells": [
  {
   "cell_type": "code",
   "execution_count": 31,
   "metadata": {},
   "outputs": [
    {
     "name": "stdout",
     "output_type": "stream",
     "text": [
      "['negative'] [[['positive', 0.006424121558666229], ['negative', 0.99347323179245], ['neutral', 0.00010262339492328465]]]\n"
     ]
    }
   ],
   "source": [
    "from germansentiment import SentimentModel\n",
    "# sentiment analysis lib for german language _> germansentiment\n",
    "# https://github.com/oliverguhr/german-sentiment-lib\n",
    "\n",
    "model = SentimentModel()"
   ]
  },
  {
   "cell_type": "code",
   "execution_count": 37,
   "metadata": {},
   "outputs": [
    {
     "name": "stdout",
     "output_type": "stream",
     "text": [
      "['neutral'] [[['positive', 4.4978864934819285e-06], ['negative', 8.717618584341835e-06], ['neutral', 0.9999867677688599]]]\n"
     ]
    }
   ],
   "source": [
    "classes, probabilities = model.predict_sentiment([\"\"], output_probabilities = True) \n",
    "print(classes, probabilities)\n"
   ]
  }
 ],
 "metadata": {
  "kernelspec": {
   "display_name": "Python 3",
   "language": "python",
   "name": "python3"
  },
  "language_info": {
   "codemirror_mode": {
    "name": "ipython",
    "version": 3
   },
   "file_extension": ".py",
   "mimetype": "text/x-python",
   "name": "python",
   "nbconvert_exporter": "python",
   "pygments_lexer": "ipython3",
   "version": "3.10.0"
  }
 },
 "nbformat": 4,
 "nbformat_minor": 2
}
