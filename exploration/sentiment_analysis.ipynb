{
 "cells": [
  {
   "cell_type": "code",
   "execution_count": 2,
   "metadata": {},
   "outputs": [
    {
     "name": "stderr",
     "output_type": "stream",
     "text": [
      "C:\\Users\\janmu\\AppData\\Roaming\\Python\\Python311\\site-packages\\tqdm\\auto.py:21: TqdmWarning: IProgress not found. Please update jupyter and ipywidgets. See https://ipywidgets.readthedocs.io/en/stable/user_install.html\n",
      "  from .autonotebook import tqdm as notebook_tqdm\n",
      "config.json: 100%|██████████| 665/665 [00:00<?, ?B/s] \n",
      "C:\\Users\\janmu\\AppData\\Roaming\\Python\\Python311\\site-packages\\huggingface_hub\\file_download.py:147: UserWarning: `huggingface_hub` cache-system uses symlinks by default to efficiently store duplicated files but your machine does not support them in C:\\Users\\janmu\\.cache\\huggingface\\hub. Caching files will still work but in a degraded version that might require more space on your disk. This warning can be disabled by setting the `HF_HUB_DISABLE_SYMLINKS_WARNING` environment variable. For more details, see https://huggingface.co/docs/huggingface_hub/how-to-cache#limitations.\n",
      "To support symlinks on Windows, you either need to activate Developer Mode or to run Python as an administrator. In order to see activate developer mode, see this article: https://docs.microsoft.com/en-us/windows/apps/get-started/enable-your-device-for-development\n",
      "  warnings.warn(message)\n",
      "model.safetensors: 100%|██████████| 436M/436M [01:59<00:00, 3.66MB/s] \n",
      "tokenizer_config.json: 100%|██████████| 161/161 [00:00<00:00, 161kB/s]\n",
      "vocab.txt: 100%|██████████| 255k/255k [00:00<00:00, 1.03MB/s]\n",
      "special_tokens_map.json: 100%|██████████| 112/112 [00:00<00:00, 113kB/s]\n"
     ]
    },
    {
     "name": "stdout",
     "output_type": "stream",
     "text": [
      "['positive'] [[['positive', 0.9761366844177246], ['negative', 0.023540450260043144], ['neutral', 0.00032294404809363186]]]\n"
     ]
    }
   ],
   "source": [
    "from germansentiment import SentimentModel\n",
    "\n",
    "model = SentimentModel()"
   ]
  },
  {
   "cell_type": "code",
   "execution_count": 3,
   "metadata": {},
   "outputs": [
    {
     "name": "stdout",
     "output_type": "stream",
     "text": [
      "['positive'] [[['positive', 0.9761366844177246], ['negative', 0.023540450260043144], ['neutral', 0.00032294404809363186]]]\n"
     ]
    }
   ],
   "source": [
    "classes, probabilities = model.predict_sentiment([\"das ist super\"], output_probabilities = True) \n",
    "print(classes, probabilities)"
   ]
  }
 ],
 "metadata": {
  "kernelspec": {
   "display_name": "Python 3",
   "language": "python",
   "name": "python3"
  },
  "language_info": {
   "codemirror_mode": {
    "name": "ipython",
    "version": 3
   },
   "file_extension": ".py",
   "mimetype": "text/x-python",
   "name": "python",
   "nbconvert_exporter": "python",
   "pygments_lexer": "ipython3",
   "version": "3.11.4"
  }
 },
 "nbformat": 4,
 "nbformat_minor": 2
}
