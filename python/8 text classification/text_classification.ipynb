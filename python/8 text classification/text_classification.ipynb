{
 "cells": [
  {
   "cell_type": "markdown",
   "metadata": {},
   "source": [
    "# Text Classification"
   ]
  },
  {
   "cell_type": "markdown",
   "metadata": {},
   "source": [
    "## Import"
   ]
  },
  {
   "cell_type": "code",
   "execution_count": 1,
   "metadata": {},
   "outputs": [],
   "source": [
    "import spacy\n",
    "from spacy.util import minibatch\n",
    "from spacy.training.example import Example\n",
    "import random\n",
    "import os\n",
    "import csv\n",
    "import json\n",
    "import shutil"
   ]
  },
  {
   "cell_type": "code",
   "execution_count": 2,
   "metadata": {},
   "outputs": [],
   "source": [
    "# path where the trained model should be saved\n",
    "model_dir = './trained_model'"
   ]
  },
  {
   "cell_type": "markdown",
   "metadata": {},
   "source": [
    "## spaCy model"
   ]
  },
  {
   "cell_type": "code",
   "execution_count": 3,
   "metadata": {},
   "outputs": [],
   "source": [
    "# load the german spaCy model\n",
    "nlp = spacy.load('de_core_news_sm')\n",
    "\n",
    "# add the text classifier to the pipeline if it doesn't exist\n",
    "if 'textcat_multilabel' not in nlp.pipe_names:\n",
    "    textcat = nlp.add_pipe('textcat_multilabel')\n",
    "else:\n",
    "    textcat = nlp.get_pipe('textcat_multilabel')"
   ]
  },
  {
   "cell_type": "code",
   "execution_count": 4,
   "metadata": {},
   "outputs": [
    {
     "name": "stdout",
     "output_type": "stream",
     "text": [
      "Start processing files\n"
     ]
    },
    {
     "name": "stderr",
     "output_type": "stream",
     "text": [
      "/Library/Frameworks/Python.framework/Versions/3.12/lib/python3.12/site-packages/spacy/pipeline/attributeruler.py:149: UserWarning: [W036] The component 'matcher' does not have any patterns defined.\n",
      "  matches = self.matcher(doc, allow_missing=True, as_spans=False)\n"
     ]
    },
    {
     "name": "stdout",
     "output_type": "stream",
     "text": [
      "Start processing files\n",
      "Start processing files\n",
      "Start processing files\n",
      "Start processing files\n",
      "Start processing files\n"
     ]
    },
    {
     "data": {
      "text/plain": [
       "'../../frontend/src/pages/charts/data/labels'"
      ]
     },
     "execution_count": 4,
     "metadata": {},
     "output_type": "execute_result"
    }
   ],
   "source": [
    "# define the labels\n",
    "labels = {\"Umwelt\", \"Bildung\", \"Gesundheit\", \"Wirtschaft\"}\n",
    "\n",
    "# proof if model already exists\n",
    "if os.path.exists(model_dir):\n",
    "    nlp = spacy.load(model_dir)\n",
    "else:\n",
    "    for label in labels:\n",
    "        textcat.add_label(label)\n",
    "\n",
    "    # path to the json file with the training data\n",
    "    file_path = './modified_training_data.json'\n",
    "\n",
    "    # read the training data\n",
    "    with open(file_path, 'r', encoding='utf-8') as file:\n",
    "        train_data = json.load(file)\n",
    "\n",
    "    # train the model\n",
    "    optimizer = nlp.begin_training()\n",
    "    for i in range(10):\n",
    "        random.shuffle(train_data)\n",
    "        losses = {}\n",
    "        for batch in minibatch(train_data, size=2):\n",
    "            for text, annotations in batch:\n",
    "                doc = nlp.make_doc(text)\n",
    "                example = Example.from_dict(doc, annotations)\n",
    "                nlp.update([example], drop=0.2, losses=losses)\n",
    "        print(f\"Losses at iteration {i}: {losses}\")\n",
    "\n",
    "    # save the trained model\n",
    "    nlp.to_disk(model_dir)\n",
    "\n",
    "# directory with the extracted text files\n",
    "extracted_text_directory = '../1 data_preprocessing/output'\n",
    "output_folder = './labels'\n",
    "os.makedirs(output_folder, exist_ok=True)\n",
    "allParties = \"Party,Label,Percentage\\n\"\n",
    "\n",
    "# classify the text files\n",
    "for filename in os.listdir(extracted_text_directory):\n",
    "    print(\"Start processing files\")\n",
    "    counterUmwelt = 0\n",
    "    counterBildung = 0\n",
    "    counterGesundheit = 0\n",
    "    counterWirtschaft = 0\n",
    "    if filename.endswith('.txt'):\n",
    "        file_path = os.path.join(extracted_text_directory, filename)\n",
    "        with open(file_path, 'r', encoding='utf-8') as file:\n",
    "            text = file.read()\n",
    "            texts = text.split(\". \")\n",
    "            countSentences = len(texts)\n",
    "            for text in texts:\n",
    "                doc = nlp(text)\n",
    "                scores = {label: doc.cats[label] for label in labels}\n",
    "                max_label = max(scores, key=scores.get)\n",
    "                if max_label == \"Umwelt\":\n",
    "                    counterUmwelt += 1\n",
    "                if max_label == \"Bildung\":\n",
    "                    counterBildung += 1\n",
    "                if max_label == \"Gesundheit\":\n",
    "                    counterGesundheit += 1\n",
    "                if max_label == \"Wirtschaft\":\n",
    "                    counterWirtschaft += 1\n",
    "\n",
    "            csv_file_path = os.path.join(output_folder, filename.replace('.txt', '.csv'))\n",
    "            with open(csv_file_path, 'w', newline='', encoding='utf-8') as csvfile:\n",
    "                text = \"Label,Percentage\\n\"\n",
    "                for column, counter in zip([\"Bildung\", \"Wirtschaft\", \"Gesundheit\", \"Umwelt\"], [counterBildung, counterWirtschaft, counterGesundheit, counterUmwelt]):\n",
    "                    text += column + \",\" + str(round(((counter / countSentences) * 100), 2)) + \"\\n\"\n",
    "                    allParties += filename.replace('.txt', '') + \",\" + column + \",\" + str(round(((counter / countSentences) * 100), 2)) + \"\\n\"\n",
    "                text = text[:-1]\n",
    "                csvfile.write(text)\n",
    "\n",
    "# write the results to a csv file\n",
    "csv_file_path = os.path.join(output_folder, 'classification_results.csv')\n",
    "with open(csv_file_path, 'w', newline='', encoding='utf-8') as csvfile:\n",
    "    allParties = allParties[:-1]\n",
    "    csvfile.write(allParties)\n",
    "\n"
   ]
  },
  {
   "cell_type": "markdown",
   "metadata": {},
   "source": [
    "## Copy the folder to the frontend"
   ]
  },
  {
   "cell_type": "code",
   "execution_count": null,
   "metadata": {},
   "outputs": [],
   "source": [
    "# copy the folder to the frontend\n",
    "shutil.copytree('./labels', '../../frontend/src/pages/charts/data/labels', dirs_exist_ok=True)"
   ]
  }
 ],
 "metadata": {
  "kernelspec": {
   "display_name": "Python 3",
   "language": "python",
   "name": "python3"
  },
  "language_info": {
   "codemirror_mode": {
    "name": "ipython",
    "version": 3
   },
   "file_extension": ".py",
   "mimetype": "text/x-python",
   "name": "python",
   "nbconvert_exporter": "python",
   "pygments_lexer": "ipython3",
   "version": "3.12.0"
  }
 },
 "nbformat": 4,
 "nbformat_minor": 2
}
