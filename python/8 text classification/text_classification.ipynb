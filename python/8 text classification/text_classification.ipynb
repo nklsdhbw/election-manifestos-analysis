{
 "cells": [
  {
   "cell_type": "markdown",
   "metadata": {},
   "source": [
    "# Text Classification "
   ]
  },
  {
   "cell_type": "markdown",
   "metadata": {},
   "source": [
    "### Import all bibliographies"
   ]
  },
  {
   "cell_type": "code",
   "execution_count": null,
   "metadata": {},
   "outputs": [],
   "source": [
    "import spacy\n",
    "from spacy.util import minibatch\n",
    "from spacy.training.example import Example\n",
    "import random\n",
    "import os\n",
    "import csv\n",
    "import json\n",
    "import shutil\n",
    "from sklearn.model_selection import KFold"
   ]
  },
  {
   "cell_type": "markdown",
   "metadata": {},
   "source": [
    "### Config"
   ]
  },
  {
   "cell_type": "code",
   "execution_count": null,
   "metadata": {},
   "outputs": [],
   "source": [
    "# path where the trained model should be saved\n",
    "model_dir = './trained_model'\n",
    "\n",
    "# load the german spaCy model\n",
    "nlp = spacy.load('de_core_news_lg')\n",
    "\n",
    "# add the text classifier to the pipeline if it doesn't exist\n",
    "if 'textcat_multilabel' not in nlp.pipe_names:\n",
    "    textcat = nlp.add_pipe('textcat_multilabel')\n",
    "else:\n",
    "    textcat = nlp.get_pipe('textcat_multilabel')"
   ]
  },
  {
   "cell_type": "markdown",
   "metadata": {},
   "source": [
    "### Main function with training, testing, evaluation and cross validation"
   ]
  },
  {
   "cell_type": "code",
   "execution_count": null,
   "metadata": {},
   "outputs": [],
   "source": [
    "# proof if model already exists\n",
    "if os.path.exists(model_dir):\n",
    "    nlp = spacy.load(model_dir)\n",
    "else:\n",
    "    for label in labels:\n",
    "        textcat.add_label(label)\n",
    "\n",
    "    # path to the json file with the training data\n",
    "    file_path = './training_data.json'\n",
    "\n",
    "    # read the training data\n",
    "    with open(file_path, 'r', encoding='utf-8') as file:\n",
    "        train_data = json.load(file)\n",
    "\n",
    "    kf = KFold(n_splits=5, shuffle=True, random_state=42)\n",
    "\n",
    "# cross validation\n",
    "for fold_number, (train_index, test_index) in enumerate(kf.split(train_data), start=1):\n",
    "    # Trainings- und Testdaten für diesen Fold extrahieren\n",
    "    train_fold = [train_data[i] for i in train_index]\n",
    "    test_fold = [train_data[i] for i in test_index]\n",
    "\n",
    "    # training data for this fold\n",
    "    train_examples = [Example.from_dict(nlp.make_doc(text), annotations) for text, annotations in train_fold]\n",
    "\n",
    "    # actual training of the model\n",
    "    optimizer = nlp.begin_training()\n",
    "    for i in range(10):\n",
    "        random.shuffle(train_examples)\n",
    "        losses = {}\n",
    "        for batch in minibatch(train_examples, size=2):\n",
    "            for example in batch:\n",
    "                nlp.update([example], drop=0.2, losses=losses)\n",
    "        print(f\"Verluste im Fold {fold_number}, Iteration {i}: {losses}\")\n",
    "\n",
    "    # test data for this fold\n",
    "    test_examples = [Example.from_dict(nlp.make_doc(text), annotations) for text, annotations in test_fold]\n",
    "\n",
    "    # evaluate the model\n",
    "    scores = nlp.evaluate(test_examples)\n",
    "    print(f\"Evaluierungsergebnisse für Fold {fold_number}: {scores}\")\n",
    "\n",
    "# print the evaluation results\n",
    "print(f\"Evaluation results: {scores}\")\n",
    "\n",
    "# directory with the extracted text files\n",
    "extracted_text_directory = '../1 data_preprocessing/output'\n",
    "output_folder = './labels'\n",
    "os.makedirs(output_folder, exist_ok=True)\n",
    "allParties = \"Party,Label,Percentage\\n\"\n",
    "\n",
    "# classify the text files\n",
    "for filename in os.listdir(extracted_text_directory):\n",
    "    print(\"Start processing files\")\n",
    "    counterUmwelt = 0\n",
    "    counterBildung = 0\n",
    "    counterGesundheit = 0\n",
    "    counterWirtschaft = 0\n",
    "    if filename.endswith('.txt'):\n",
    "        file_path = os.path.join(extracted_text_directory, filename)\n",
    "        with open(file_path, 'r', encoding='utf-8') as file:\n",
    "            text = file.read()\n",
    "            texts = text.split(\". \")\n",
    "            countSentences = len(texts)\n",
    "            for text in texts:\n",
    "                doc = nlp(text)\n",
    "                scores = {label: doc.cats[label] for label in labels}\n",
    "                max_label = max(scores, key=scores.get)\n",
    "                if max_label == \"Umwelt\":\n",
    "                    counterUmwelt += 1\n",
    "                if max_label == \"Bildung\":\n",
    "                    counterBildung += 1\n",
    "                if max_label == \"Gesundheit\":\n",
    "                    counterGesundheit += 1\n",
    "                if max_label == \"Wirtschaft\":\n",
    "                    counterWirtschaft += 1\n",
    "\n",
    "            csv_file_path = os.path.join(output_folder, filename.replace('.txt', '.csv'))\n",
    "            with open(csv_file_path, 'w', newline='', encoding='utf-8') as csvfile:\n",
    "                text = \"Label,Percentage\\n\"\n",
    "                for column, counter in zip([\"Bildung\", \"Wirtschaft\", \"Gesundheit\", \"Umwelt\"], [counterBildung, counterWirtschaft, counterGesundheit, counterUmwelt]):\n",
    "                    text += column + \",\" + str(round(((counter / countSentences) * 100), 2)) + \"\\n\"\n",
    "                    allParties += filename.replace('.txt', '') + \",\" + column + \",\" + str(round(((counter / countSentences) * 100), 2)) + \"\\n\"\n",
    "                text = text[:-1]\n",
    "                csvfile.write(text)"
   ]
  },
  {
   "cell_type": "markdown",
   "metadata": {},
   "source": [
    "### Results in a csv"
   ]
  },
  {
   "cell_type": "code",
   "execution_count": null,
   "metadata": {},
   "outputs": [],
   "source": [
    "# write the results to a csv file\n",
    "csv_file_path = os.path.join(output_folder, 'classification_results.csv')\n",
    "with open(csv_file_path, 'w', newline='', encoding='utf-8') as csvfile:\n",
    "    allParties = allParties[:-1]\n",
    "    csvfile.write(allParties)"
   ]
  },
  {
   "cell_type": "markdown",
   "metadata": {},
   "source": [
    "### Write the results into the frontend"
   ]
  },
  {
   "cell_type": "code",
   "execution_count": null,
   "metadata": {},
   "outputs": [],
   "source": [
    "# copy the folder to the frontend\n",
    "shutil.copytree('./labels', '../../frontend/src/pages/charts/data/labels', dirs_exist_ok=True)"
   ]
  }
 ],
 "metadata": {
  "kernelspec": {
   "display_name": "Python 3",
   "language": "python",
   "name": "python3"
  },
  "language_info": {
   "name": "python",
   "version": "3.12.0"
  }
 },
 "nbformat": 4,
 "nbformat_minor": 2
}
