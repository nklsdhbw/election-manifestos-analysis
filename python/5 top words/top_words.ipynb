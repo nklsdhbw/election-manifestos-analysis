{
 "cells": [
  {
   "cell_type": "markdown",
   "metadata": {},
   "source": [
    "# **Imports**"
   ]
  },
  {
   "cell_type": "code",
   "execution_count": 1,
   "metadata": {},
   "outputs": [],
   "source": [
    "import os\n",
    "import re\n",
    "import csv\n",
    "from collections import Counter\n",
    "import nltk\n",
    "from nltk.corpus import stopwords\n",
    "import ssl\n",
    "import shutil"
   ]
  },
  {
   "cell_type": "markdown",
   "metadata": {},
   "source": [
    "# **Configs**"
   ]
  },
  {
   "cell_type": "code",
   "execution_count": 2,
   "metadata": {},
   "outputs": [],
   "source": [
    "INPUT_PATH = '../1 data_preprocessing/output'\n",
    "OUTPUT_PATH = './top_words'"
   ]
  },
  {
   "cell_type": "markdown",
   "metadata": {},
   "source": [
    "# **Downlad nltk stopwords**"
   ]
  },
  {
   "cell_type": "code",
   "execution_count": 3,
   "metadata": {},
   "outputs": [
    {
     "name": "stderr",
     "output_type": "stream",
     "text": [
      "[nltk_data] Downloading package stopwords to\n",
      "[nltk_data]     /Users/niklas/nltk_data...\n",
      "[nltk_data]   Package stopwords is already up-to-date!\n"
     ]
    }
   ],
   "source": [
    "# using SSL to download nltk (code from https://stackoverflow.com/questions/41348621/ssl-error-downloading-nltk-data)\n",
    "try:\n",
    "    _create_unverified_https_context = ssl._create_unverified_context\n",
    "except AttributeError:\n",
    "    pass\n",
    "else:\n",
    "    ssl._create_default_https_context = _create_unverified_https_context\n",
    "\n",
    "nltk.download('stopwords')\n",
    "stop_words = set(stopwords.words('german'))"
   ]
  },
  {
   "cell_type": "markdown",
   "metadata": {},
   "source": [
    "# **Functions**"
   ]
  },
  {
   "cell_type": "code",
   "execution_count": 4,
   "metadata": {},
   "outputs": [],
   "source": [
    "def top_words(filepath, top_n=30):\n",
    "    file = open(filepath, 'r', encoding='utf-8')\n",
    "    text = file.read()\n",
    "    file.close()\n",
    "\n",
    "    text = text.lower()\n",
    "    text = re.sub('[^a-zäöüß]', ' ', text)\n",
    "\n",
    "    single_words = text.split()\n",
    "\n",
    "    counter1 = Counter()\n",
    "    for word in single_words:\n",
    "        if word not in stop_words:\n",
    "            counter1[word] += 1\n",
    "\n",
    "    top_words = counter1.most_common(top_n)\n",
    "\n",
    "    return top_words"
   ]
  },
  {
   "cell_type": "markdown",
   "metadata": {},
   "source": [
    "# **Process all files**"
   ]
  },
  {
   "cell_type": "code",
   "execution_count": 6,
   "metadata": {},
   "outputs": [],
   "source": [
    "if not os.path.exists(OUTPUT_PATH):\n",
    "    os.makedirs(OUTPUT_PATH)\n",
    "\n",
    "for filename in os.listdir(INPUT_PATH):\n",
    "    if filename.endswith('.txt'):\n",
    "        file_path = os.path.join(INPUT_PATH, filename)\n",
    "        top_worte_liste = top_words(file_path)\n",
    "\n",
    "        csv_dateiname = filename.replace('.txt', '_top_worte.csv')\n",
    "        csv_pfad = os.path.join(OUTPUT_PATH, csv_dateiname)\n",
    "\n",
    "        with open(csv_pfad, 'w', newline='', encoding='utf-8') as csv_datei:\n",
    "            csv_schreiber = csv.writer(csv_datei)\n",
    "            csv_schreiber.writerow(['Wort', 'Anzahl'])\n",
    "            for wort, anzahl in top_worte_liste:\n",
    "                csv_schreiber.writerow([wort, anzahl])"
   ]
  },
  {
   "cell_type": "markdown",
   "metadata": {},
   "source": [
    "# **Copy files into frontend/src**"
   ]
  },
  {
   "cell_type": "code",
   "execution_count": 10,
   "metadata": {},
   "outputs": [
    {
     "data": {
      "text/plain": [
       "'../../frontend/src/pages/charts/data/top_words'"
      ]
     },
     "execution_count": 10,
     "metadata": {},
     "output_type": "execute_result"
    }
   ],
   "source": [
    "# Copy folder into react frontend src folder so that react can access the data\n",
    "shutil.copytree('./top_words', '../../frontend/src/pages/charts/data/top_words', dirs_exist_ok=True)"
   ]
  }
 ],
 "metadata": {
  "kernelspec": {
   "display_name": "nlp",
   "language": "python",
   "name": "python3"
  },
  "language_info": {
   "codemirror_mode": {
    "name": "ipython",
    "version": 3
   },
   "file_extension": ".py",
   "mimetype": "text/x-python",
   "name": "python",
   "nbconvert_exporter": "python",
   "pygments_lexer": "ipython3",
   "version": "3.11.7"
  }
 },
 "nbformat": 4,
 "nbformat_minor": 2
}
