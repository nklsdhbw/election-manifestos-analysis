{
 "cells": [
  {
   "cell_type": "markdown",
   "metadata": {},
   "source": [
    "# Text Classification "
   ]
  },
  {
   "cell_type": "markdown",
   "metadata": {},
   "source": [
    "### Import all bibliographies"
   ]
  },
  {
   "cell_type": "code",
   "execution_count": 1,
   "metadata": {},
   "outputs": [],
   "source": [
    "import spacy\n",
    "from spacy.util import minibatch\n",
    "from spacy.training.example import Example\n",
    "import random\n",
    "import os\n",
    "import csv\n",
    "import json\n",
    "import shutil\n",
    "from sklearn.model_selection import KFold"
   ]
  },
  {
   "cell_type": "markdown",
   "metadata": {},
   "source": [
    "### Config"
   ]
  },
  {
   "cell_type": "code",
   "execution_count": 2,
   "metadata": {},
   "outputs": [],
   "source": [
    "# path where the trained model should be saved\n",
    "\n",
    "model_dir = './trained_model'\n",
    "# load the german spaCy model\n",
    "nlp = spacy.load('de_core_news_lg')\n",
    "\n",
    "# add the text classifier to the pipeline if it doesn't exist\n",
    "if 'textcat_multilabel' not in nlp.pipe_names:\n",
    "    textcat = nlp.add_pipe('textcat_multilabel')\n",
    "else:\n",
    "    textcat = nlp.get_pipe('textcat_multilabel')\n",
    "\n",
    "# define the labels\n",
    "labels = {\"Umwelt\", \"Bildung\", \"Gesundheit\", \"Wirtschaft\"}"
   ]
  },
  {
   "cell_type": "markdown",
   "metadata": {},
   "source": [
    "### Main function with training, testing, evaluation and cross validation"
   ]
  },
  {
   "cell_type": "code",
   "execution_count": 3,
   "metadata": {},
   "outputs": [
    {
     "name": "stdout",
     "output_type": "stream",
     "text": [
      "Verluste im Fold 1, Iteration 0: {'tok2vec': 0.0, 'tagger': 0.0, 'morphologizer': 0.0, 'parser': 0.0, 'lemmatizer': 0.0, 'ner': 0.0, 'textcat_multilabel': 32.02818027988724}\n",
      "Verluste im Fold 1, Iteration 1: {'tok2vec': 0.0, 'tagger': 0.0, 'morphologizer': 0.0, 'parser': 0.0, 'lemmatizer': 0.0, 'ner': 0.0, 'textcat_multilabel': 7.3610372019387}\n",
      "Verluste im Fold 1, Iteration 2: {'tok2vec': 0.0, 'tagger': 0.0, 'morphologizer': 0.0, 'parser': 0.0, 'lemmatizer': 0.0, 'ner': 0.0, 'textcat_multilabel': 4.061014956950949}\n",
      "Verluste im Fold 1, Iteration 3: {'tok2vec': 0.0, 'tagger': 0.0, 'morphologizer': 0.0, 'parser': 0.0, 'lemmatizer': 0.0, 'ner': 0.0, 'textcat_multilabel': 1.5822427934209249}\n",
      "Verluste im Fold 1, Iteration 4: {'tok2vec': 0.0, 'tagger': 0.0, 'morphologizer': 0.0, 'parser': 0.0, 'lemmatizer': 0.0, 'ner': 0.0, 'textcat_multilabel': 1.3089662657694414}\n",
      "Verluste im Fold 1, Iteration 5: {'tok2vec': 0.0, 'tagger': 0.0, 'morphologizer': 0.0, 'parser': 0.0, 'lemmatizer': 0.0, 'ner': 0.0, 'textcat_multilabel': 1.6727231388570745}\n",
      "Verluste im Fold 1, Iteration 6: {'tok2vec': 0.0, 'tagger': 0.0, 'morphologizer': 0.0, 'parser': 0.0, 'lemmatizer': 0.0, 'ner': 0.0, 'textcat_multilabel': 1.2759411829687306}\n",
      "Verluste im Fold 1, Iteration 7: {'tok2vec': 0.0, 'tagger': 0.0, 'morphologizer': 0.0, 'parser': 0.0, 'lemmatizer': 0.0, 'ner': 0.0, 'textcat_multilabel': 1.0643890223157624}\n",
      "Verluste im Fold 1, Iteration 8: {'tok2vec': 0.0, 'tagger': 0.0, 'morphologizer': 0.0, 'parser': 0.0, 'lemmatizer': 0.0, 'ner': 0.0, 'textcat_multilabel': 1.7427382028953}\n",
      "Verluste im Fold 1, Iteration 9: {'tok2vec': 0.0, 'tagger': 0.0, 'morphologizer': 0.0, 'parser': 0.0, 'lemmatizer': 0.0, 'ner': 0.0, 'textcat_multilabel': 1.1889308857595713}\n"
     ]
    },
    {
     "name": "stderr",
     "output_type": "stream",
     "text": [
      "/Users/niklas/election-manifestos-analysis/python/nlp/lib/python3.11/site-packages/spacy/pipeline/attributeruler.py:149: UserWarning: [W036] The component 'matcher' does not have any patterns defined.\n",
      "  matches = self.matcher(doc, allow_missing=True, as_spans=False)\n"
     ]
    },
    {
     "name": "stdout",
     "output_type": "stream",
     "text": [
      "Evaluierungsergebnisse für Fold 1: {'token_acc': 1.0, 'token_p': 1.0, 'token_r': 1.0, 'token_f': 1.0, 'tag_acc': None, 'pos_acc': None, 'morph_acc': None, 'morph_micro_p': None, 'morph_micro_r': None, 'morph_micro_f': None, 'morph_per_feat': None, 'sents_p': None, 'sents_r': None, 'sents_f': None, 'dep_uas': None, 'dep_las': None, 'dep_las_per_type': None, 'lemma_acc': None, 'ents_p': None, 'ents_r': None, 'ents_f': None, 'ents_per_type': None, 'cats_score': 0.9959395015316068, 'cats_score_desc': 'macro AUC', 'cats_micro_p': 0.9113924050632911, 'cats_micro_r': 0.9, 'cats_micro_f': 0.9056603773584907, 'cats_macro_p': 0.9158204334365325, 'cats_macro_r': 0.8972222222222221, 'cats_macro_f': 0.9033170908870798, 'cats_macro_auc': 0.9959395015316068, 'cats_f_per_type': {'Umwelt': {'p': 0.8421052631578947, 'r': 0.8888888888888888, 'f': 0.8648648648648649}, 'Gesundheit': {'p': 0.88, 'r': 1.0, 'f': 0.9361702127659575}, 'Wirtschaft': {'p': 1.0, 'r': 0.9, 'f': 0.9473684210526316}, 'Bildung': {'p': 0.9411764705882353, 'r': 0.8, 'f': 0.8648648648648648}}, 'cats_auc_per_type': {'Umwelt': 0.9873294346978558, 'Gesundheit': 1.0, 'Wirtschaft': 1.0, 'Bildung': 0.9964285714285714}, 'speed': 5106.520610613431}\n",
      "Verluste im Fold 2, Iteration 0: {'tok2vec': 0.0, 'tagger': 0.0, 'morphologizer': 0.0, 'parser': 0.0, 'lemmatizer': 0.0, 'ner': 0.0, 'textcat_multilabel': 38.249672293206686}\n",
      "Verluste im Fold 2, Iteration 1: {'tok2vec': 0.0, 'tagger': 0.0, 'morphologizer': 0.0, 'parser': 0.0, 'lemmatizer': 0.0, 'ner': 0.0, 'textcat_multilabel': 9.021907456995962}\n",
      "Verluste im Fold 2, Iteration 2: {'tok2vec': 0.0, 'tagger': 0.0, 'morphologizer': 0.0, 'parser': 0.0, 'lemmatizer': 0.0, 'ner': 0.0, 'textcat_multilabel': 6.122660090876149}\n",
      "Verluste im Fold 2, Iteration 3: {'tok2vec': 0.0, 'tagger': 0.0, 'morphologizer': 0.0, 'parser': 0.0, 'lemmatizer': 0.0, 'ner': 0.0, 'textcat_multilabel': 2.646096239622946}\n",
      "Verluste im Fold 2, Iteration 4: {'tok2vec': 0.0, 'tagger': 0.0, 'morphologizer': 0.0, 'parser': 0.0, 'lemmatizer': 0.0, 'ner': 0.0, 'textcat_multilabel': 2.4791626847564}\n",
      "Verluste im Fold 2, Iteration 5: {'tok2vec': 0.0, 'tagger': 0.0, 'morphologizer': 0.0, 'parser': 0.0, 'lemmatizer': 0.0, 'ner': 0.0, 'textcat_multilabel': 1.8631528833949722}\n",
      "Verluste im Fold 2, Iteration 6: {'tok2vec': 0.0, 'tagger': 0.0, 'morphologizer': 0.0, 'parser': 0.0, 'lemmatizer': 0.0, 'ner': 0.0, 'textcat_multilabel': 1.7271420069772976}\n",
      "Verluste im Fold 2, Iteration 7: {'tok2vec': 0.0, 'tagger': 0.0, 'morphologizer': 0.0, 'parser': 0.0, 'lemmatizer': 0.0, 'ner': 0.0, 'textcat_multilabel': 1.4713283182717118}\n",
      "Verluste im Fold 2, Iteration 8: {'tok2vec': 0.0, 'tagger': 0.0, 'morphologizer': 0.0, 'parser': 0.0, 'lemmatizer': 0.0, 'ner': 0.0, 'textcat_multilabel': 1.2736996201903024}\n",
      "Verluste im Fold 2, Iteration 9: {'tok2vec': 0.0, 'tagger': 0.0, 'morphologizer': 0.0, 'parser': 0.0, 'lemmatizer': 0.0, 'ner': 0.0, 'textcat_multilabel': 0.625287700036469}\n",
      "Evaluierungsergebnisse für Fold 2: {'token_acc': 1.0, 'token_p': 1.0, 'token_r': 1.0, 'token_f': 1.0, 'tag_acc': None, 'pos_acc': None, 'morph_acc': None, 'morph_micro_p': None, 'morph_micro_r': None, 'morph_micro_f': None, 'morph_per_feat': None, 'sents_p': None, 'sents_r': None, 'sents_f': None, 'dep_uas': None, 'dep_las': None, 'dep_las_per_type': None, 'lemma_acc': None, 'ents_p': None, 'ents_r': None, 'ents_f': None, 'ents_per_type': None, 'cats_score': 0.9956956452801329, 'cats_score_desc': 'macro AUC', 'cats_micro_p': 0.9859154929577465, 'cats_micro_r': 0.8860759493670886, 'cats_micro_f': 0.9333333333333333, 'cats_macro_p': 0.9861111111111112, 'cats_macro_r': 0.886815523657629, 'cats_macro_f': 0.9335732697131172, 'cats_macro_auc': 0.9956956452801329, 'cats_f_per_type': {'Umwelt': {'p': 1.0, 'r': 0.8636363636363636, 'f': 0.9268292682926829}, 'Gesundheit': {'p': 1.0, 'r': 0.8888888888888888, 'f': 0.9411764705882353}, 'Wirtschaft': {'p': 1.0, 'r': 0.9, 'f': 0.9473684210526316}, 'Bildung': {'p': 0.9444444444444444, 'r': 0.8947368421052632, 'f': 0.918918918918919}}, 'cats_auc_per_type': {'Umwelt': 0.9966329966329966, 'Gesundheit': 1.0, 'Wirtschaft': 0.9999999999999999, 'Bildung': 0.9861495844875348}, 'speed': 5636.260069283884}\n",
      "Verluste im Fold 3, Iteration 0: {'tok2vec': 0.0, 'tagger': 0.0, 'morphologizer': 0.0, 'parser': 0.0, 'lemmatizer': 0.0, 'ner': 0.0, 'textcat_multilabel': 28.859435189285136}\n",
      "Verluste im Fold 3, Iteration 1: {'tok2vec': 0.0, 'tagger': 0.0, 'morphologizer': 0.0, 'parser': 0.0, 'lemmatizer': 0.0, 'ner': 0.0, 'textcat_multilabel': 8.653587400199086}\n",
      "Verluste im Fold 3, Iteration 2: {'tok2vec': 0.0, 'tagger': 0.0, 'morphologizer': 0.0, 'parser': 0.0, 'lemmatizer': 0.0, 'ner': 0.0, 'textcat_multilabel': 4.1902044611883}\n",
      "Verluste im Fold 3, Iteration 3: {'tok2vec': 0.0, 'tagger': 0.0, 'morphologizer': 0.0, 'parser': 0.0, 'lemmatizer': 0.0, 'ner': 0.0, 'textcat_multilabel': 2.745850373544337}\n",
      "Verluste im Fold 3, Iteration 4: {'tok2vec': 0.0, 'tagger': 0.0, 'morphologizer': 0.0, 'parser': 0.0, 'lemmatizer': 0.0, 'ner': 0.0, 'textcat_multilabel': 2.5871022315757415}\n",
      "Verluste im Fold 3, Iteration 5: {'tok2vec': 0.0, 'tagger': 0.0, 'morphologizer': 0.0, 'parser': 0.0, 'lemmatizer': 0.0, 'ner': 0.0, 'textcat_multilabel': 1.4144506065884936}\n",
      "Verluste im Fold 3, Iteration 6: {'tok2vec': 0.0, 'tagger': 0.0, 'morphologizer': 0.0, 'parser': 0.0, 'lemmatizer': 0.0, 'ner': 0.0, 'textcat_multilabel': 1.527104669581688}\n",
      "Verluste im Fold 3, Iteration 7: {'tok2vec': 0.0, 'tagger': 0.0, 'morphologizer': 0.0, 'parser': 0.0, 'lemmatizer': 0.0, 'ner': 0.0, 'textcat_multilabel': 1.0629631950740883}\n",
      "Verluste im Fold 3, Iteration 8: {'tok2vec': 0.0, 'tagger': 0.0, 'morphologizer': 0.0, 'parser': 0.0, 'lemmatizer': 0.0, 'ner': 0.0, 'textcat_multilabel': 1.0273338339783253}\n",
      "Verluste im Fold 3, Iteration 9: {'tok2vec': 0.0, 'tagger': 0.0, 'morphologizer': 0.0, 'parser': 0.0, 'lemmatizer': 0.0, 'ner': 0.0, 'textcat_multilabel': 0.7204356423571832}\n",
      "Evaluierungsergebnisse für Fold 3: {'token_acc': 1.0, 'token_p': 1.0, 'token_r': 1.0, 'token_f': 1.0, 'tag_acc': None, 'pos_acc': None, 'morph_acc': None, 'morph_micro_p': None, 'morph_micro_r': None, 'morph_micro_f': None, 'morph_per_feat': None, 'sents_p': None, 'sents_r': None, 'sents_f': None, 'dep_uas': None, 'dep_las': None, 'dep_las_per_type': None, 'lemma_acc': None, 'ents_p': None, 'ents_r': None, 'ents_f': None, 'ents_per_type': None, 'cats_score': 0.9990832194121668, 'cats_score_desc': 'macro AUC', 'cats_micro_p': 0.9866666666666667, 'cats_micro_r': 0.9736842105263158, 'cats_micro_f': 0.9801324503311258, 'cats_macro_p': 0.9868421052631579, 'cats_macro_r': 0.9743421052631578, 'cats_macro_f': 0.9804318488529015, 'cats_macro_auc': 0.9990832194121668, 'cats_f_per_type': {'Umwelt': {'p': 1.0, 'r': 1.0, 'f': 1.0}, 'Gesundheit': {'p': 1.0, 'r': 1.0, 'f': 1.0}, 'Wirtschaft': {'p': 0.9473684210526315, 'r': 0.9473684210526315, 'f': 0.9473684210526315}, 'Bildung': {'p': 1.0, 'r': 0.95, 'f': 0.9743589743589743}}, 'cats_auc_per_type': {'Umwelt': 0.9999999999999999, 'Gesundheit': 1.0, 'Wirtschaft': 0.9990601503759398, 'Bildung': 0.9972727272727273}, 'speed': 5632.307776439628}\n",
      "Verluste im Fold 4, Iteration 0: {'tok2vec': 0.0, 'tagger': 0.0, 'morphologizer': 0.0, 'parser': 0.0, 'lemmatizer': 0.0, 'ner': 0.0, 'textcat_multilabel': 29.567252820759165}\n",
      "Verluste im Fold 4, Iteration 1: {'tok2vec': 0.0, 'tagger': 0.0, 'morphologizer': 0.0, 'parser': 0.0, 'lemmatizer': 0.0, 'ner': 0.0, 'textcat_multilabel': 7.673627005474248}\n",
      "Verluste im Fold 4, Iteration 2: {'tok2vec': 0.0, 'tagger': 0.0, 'morphologizer': 0.0, 'parser': 0.0, 'lemmatizer': 0.0, 'ner': 0.0, 'textcat_multilabel': 4.04524828162228}\n",
      "Verluste im Fold 4, Iteration 3: {'tok2vec': 0.0, 'tagger': 0.0, 'morphologizer': 0.0, 'parser': 0.0, 'lemmatizer': 0.0, 'ner': 0.0, 'textcat_multilabel': 2.3564111783555077}\n",
      "Verluste im Fold 4, Iteration 4: {'tok2vec': 0.0, 'tagger': 0.0, 'morphologizer': 0.0, 'parser': 0.0, 'lemmatizer': 0.0, 'ner': 0.0, 'textcat_multilabel': 1.713311347376235}\n",
      "Verluste im Fold 4, Iteration 5: {'tok2vec': 0.0, 'tagger': 0.0, 'morphologizer': 0.0, 'parser': 0.0, 'lemmatizer': 0.0, 'ner': 0.0, 'textcat_multilabel': 2.2186047975868113}\n",
      "Verluste im Fold 4, Iteration 6: {'tok2vec': 0.0, 'tagger': 0.0, 'morphologizer': 0.0, 'parser': 0.0, 'lemmatizer': 0.0, 'ner': 0.0, 'textcat_multilabel': 1.410323508908208}\n",
      "Verluste im Fold 4, Iteration 7: {'tok2vec': 0.0, 'tagger': 0.0, 'morphologizer': 0.0, 'parser': 0.0, 'lemmatizer': 0.0, 'ner': 0.0, 'textcat_multilabel': 0.5744736843797092}\n",
      "Verluste im Fold 4, Iteration 8: {'tok2vec': 0.0, 'tagger': 0.0, 'morphologizer': 0.0, 'parser': 0.0, 'lemmatizer': 0.0, 'ner': 0.0, 'textcat_multilabel': 0.8284197767108343}\n",
      "Verluste im Fold 4, Iteration 9: {'tok2vec': 0.0, 'tagger': 0.0, 'morphologizer': 0.0, 'parser': 0.0, 'lemmatizer': 0.0, 'ner': 0.0, 'textcat_multilabel': 0.8022166662252831}\n",
      "Evaluierungsergebnisse für Fold 4: {'token_acc': 1.0, 'token_p': 1.0, 'token_r': 1.0, 'token_f': 1.0, 'tag_acc': None, 'pos_acc': None, 'morph_acc': None, 'morph_micro_p': None, 'morph_micro_r': None, 'morph_micro_f': None, 'morph_per_feat': None, 'sents_p': None, 'sents_r': None, 'sents_f': None, 'dep_uas': None, 'dep_las': None, 'dep_las_per_type': None, 'lemma_acc': None, 'ents_p': None, 'ents_r': None, 'ents_f': None, 'ents_per_type': None, 'cats_score': 0.9715754959366706, 'cats_score_desc': 'macro AUC', 'cats_micro_p': 0.9102564102564102, 'cats_micro_r': 0.8875, 'cats_micro_f': 0.8987341772151898, 'cats_macro_p': 0.9164855072463769, 'cats_macro_r': 0.8880262249827466, 'cats_macro_f': 0.8958988638512179, 'cats_macro_auc': 0.9715754959366706, 'cats_f_per_type': {'Umwelt': {'p': 0.782608695652174, 'r': 1.0, 'f': 0.878048780487805}, 'Gesundheit': {'p': 0.95, 'r': 0.9047619047619048, 'f': 0.9268292682926829}, 'Wirtschaft': {'p': 1.0, 'r': 0.8695652173913043, 'f': 0.9302325581395349}, 'Bildung': {'p': 0.9333333333333333, 'r': 0.7777777777777778, 'f': 0.8484848484848485}}, 'cats_auc_per_type': {'Umwelt': 1.0, 'Gesundheit': 0.9779541446208113, 'Wirtschaft': 0.9590301003344481, 'Bildung': 0.949317738791423}, 'speed': 5654.89691099737}\n",
      "Verluste im Fold 5, Iteration 0: {'tok2vec': 0.0, 'tagger': 0.0, 'morphologizer': 0.0, 'parser': 0.0, 'lemmatizer': 0.0, 'ner': 0.0, 'textcat_multilabel': 36.60225833488812}\n",
      "Verluste im Fold 5, Iteration 1: {'tok2vec': 0.0, 'tagger': 0.0, 'morphologizer': 0.0, 'parser': 0.0, 'lemmatizer': 0.0, 'ner': 0.0, 'textcat_multilabel': 8.0973331207704}\n",
      "Verluste im Fold 5, Iteration 2: {'tok2vec': 0.0, 'tagger': 0.0, 'morphologizer': 0.0, 'parser': 0.0, 'lemmatizer': 0.0, 'ner': 0.0, 'textcat_multilabel': 6.004048420646235}\n",
      "Verluste im Fold 5, Iteration 3: {'tok2vec': 0.0, 'tagger': 0.0, 'morphologizer': 0.0, 'parser': 0.0, 'lemmatizer': 0.0, 'ner': 0.0, 'textcat_multilabel': 3.7802463530847614}\n",
      "Verluste im Fold 5, Iteration 4: {'tok2vec': 0.0, 'tagger': 0.0, 'morphologizer': 0.0, 'parser': 0.0, 'lemmatizer': 0.0, 'ner': 0.0, 'textcat_multilabel': 2.420052569702765}\n",
      "Verluste im Fold 5, Iteration 5: {'tok2vec': 0.0, 'tagger': 0.0, 'morphologizer': 0.0, 'parser': 0.0, 'lemmatizer': 0.0, 'ner': 0.0, 'textcat_multilabel': 1.5958881069013244}\n",
      "Verluste im Fold 5, Iteration 6: {'tok2vec': 0.0, 'tagger': 0.0, 'morphologizer': 0.0, 'parser': 0.0, 'lemmatizer': 0.0, 'ner': 0.0, 'textcat_multilabel': 1.9422278475528163}\n",
      "Verluste im Fold 5, Iteration 7: {'tok2vec': 0.0, 'tagger': 0.0, 'morphologizer': 0.0, 'parser': 0.0, 'lemmatizer': 0.0, 'ner': 0.0, 'textcat_multilabel': 0.4772278149024295}\n",
      "Verluste im Fold 5, Iteration 8: {'tok2vec': 0.0, 'tagger': 0.0, 'morphologizer': 0.0, 'parser': 0.0, 'lemmatizer': 0.0, 'ner': 0.0, 'textcat_multilabel': 0.7171801120574841}\n",
      "Verluste im Fold 5, Iteration 9: {'tok2vec': 0.0, 'tagger': 0.0, 'morphologizer': 0.0, 'parser': 0.0, 'lemmatizer': 0.0, 'ner': 0.0, 'textcat_multilabel': 0.9719331682935483}\n",
      "Evaluierungsergebnisse für Fold 5: {'token_acc': 1.0, 'token_p': 1.0, 'token_r': 1.0, 'token_f': 1.0, 'tag_acc': None, 'pos_acc': None, 'morph_acc': None, 'morph_micro_p': None, 'morph_micro_r': None, 'morph_micro_f': None, 'morph_per_feat': None, 'sents_p': None, 'sents_r': None, 'sents_f': None, 'dep_uas': None, 'dep_las': None, 'dep_las_per_type': None, 'lemma_acc': None, 'ents_p': None, 'ents_r': None, 'ents_f': None, 'ents_per_type': None, 'cats_score': 0.9875643224699828, 'cats_score_desc': 'macro AUC', 'cats_micro_p': 0.9863013698630136, 'cats_micro_r': 0.935064935064935, 'cats_micro_f': 0.9600000000000001, 'cats_macro_p': 0.9875, 'cats_macro_r': 0.9441699604743083, 'cats_macro_f': 0.9648268398268398, 'cats_macro_auc': 0.9875643224699828, 'cats_f_per_type': {'Umwelt': {'p': 1.0, 'r': 0.9130434782608695, 'f': 0.9545454545454545}, 'Gesundheit': {'p': 1.0, 'r': 1.0, 'f': 1.0}, 'Wirtschaft': {'p': 1.0, 'r': 1.0, 'f': 1.0}, 'Bildung': {'p': 0.95, 'r': 0.8636363636363636, 'f': 0.9047619047619048}}, 'cats_auc_per_type': {'Umwelt': 1.0, 'Gesundheit': 1.0, 'Wirtschaft': 1.0, 'Bildung': 0.9502572898799314}, 'speed': 5660.932702213619}\n",
      "Evaluation results: {'token_acc': 1.0, 'token_p': 1.0, 'token_r': 1.0, 'token_f': 1.0, 'tag_acc': None, 'pos_acc': None, 'morph_acc': None, 'morph_micro_p': None, 'morph_micro_r': None, 'morph_micro_f': None, 'morph_per_feat': None, 'sents_p': None, 'sents_r': None, 'sents_f': None, 'dep_uas': None, 'dep_las': None, 'dep_las_per_type': None, 'lemma_acc': None, 'ents_p': None, 'ents_r': None, 'ents_f': None, 'ents_per_type': None, 'cats_score': 0.9875643224699828, 'cats_score_desc': 'macro AUC', 'cats_micro_p': 0.9863013698630136, 'cats_micro_r': 0.935064935064935, 'cats_micro_f': 0.9600000000000001, 'cats_macro_p': 0.9875, 'cats_macro_r': 0.9441699604743083, 'cats_macro_f': 0.9648268398268398, 'cats_macro_auc': 0.9875643224699828, 'cats_f_per_type': {'Umwelt': {'p': 1.0, 'r': 0.9130434782608695, 'f': 0.9545454545454545}, 'Gesundheit': {'p': 1.0, 'r': 1.0, 'f': 1.0}, 'Wirtschaft': {'p': 1.0, 'r': 1.0, 'f': 1.0}, 'Bildung': {'p': 0.95, 'r': 0.8636363636363636, 'f': 0.9047619047619048}}, 'cats_auc_per_type': {'Umwelt': 1.0, 'Gesundheit': 1.0, 'Wirtschaft': 1.0, 'Bildung': 0.9502572898799314}, 'speed': 5660.932702213619}\n",
      "Start processing files\n",
      "Start processing files\n",
      "Start processing files\n",
      "Start processing files\n",
      "Start processing files\n",
      "Start processing files\n"
     ]
    }
   ],
   "source": [
    "for label in labels:\n",
    "    textcat.add_label(label)\n",
    "\n",
    "# path to the json file with the training data\n",
    "file_path = './training_data.json'\n",
    "\n",
    "# read the training data\n",
    "with open(file_path, 'r', encoding='utf-8') as file:\n",
    "    train_data = json.load(file)\n",
    "\n",
    "kf = KFold(n_splits=5, shuffle=True, random_state=42)\n",
    "\n",
    "\n",
    "# cross validation\n",
    "for fold_number, (train_index, test_index) in enumerate(kf.split(train_data), start=1):\n",
    "    \n",
    "    train_fold = [train_data[i] for i in train_index]\n",
    "    test_fold = [train_data[i] for i in test_index]\n",
    "\n",
    "    # training data for this fold\n",
    "    train_examples = [Example.from_dict(nlp.make_doc(text), annotations) for text, annotations in train_fold]\n",
    "\n",
    "    # train the model for this fold\n",
    "    optimizer = nlp.begin_training()\n",
    "    for i in range(10):\n",
    "        random.shuffle(train_examples)\n",
    "        losses = {}\n",
    "        for batch in minibatch(train_examples, size=2):\n",
    "            for example in batch:\n",
    "                nlp.update([example], drop=0.2, losses=losses)\n",
    "        print(f\"Verluste im Fold {fold_number}, Iteration {i}: {losses}\")\n",
    "\n",
    "    # test data for this fold\n",
    "    test_examples = [Example.from_dict(nlp.make_doc(text), annotations) for text, annotations in test_fold]\n",
    "\n",
    "    # evaluation for this model and fold\n",
    "    scores = nlp.evaluate(test_examples)\n",
    "    print(f\"Evaluierungsergebnisse für Fold {fold_number}: {scores}\")\n",
    "\n",
    "\n",
    "print(f\"Evaluation results: {scores}\")\n",
    "\n",
    "\n",
    "extracted_text_directory = '../1 data_preprocessing/output'\n",
    "output_folder = './labels'\n",
    "os.makedirs(output_folder, exist_ok=True)\n",
    "allParties = \"Party,Label,Percentage\\n\"\n",
    "\n",
    "# classify the text files\n",
    "for filename in os.listdir(extracted_text_directory):\n",
    "    print(\"Start processing files\")\n",
    "    counterUmwelt = 0\n",
    "    counterBildung = 0\n",
    "    counterGesundheit = 0\n",
    "    counterWirtschaft = 0\n",
    "    if filename.endswith('.txt'):\n",
    "        file_path = os.path.join(extracted_text_directory, filename)\n",
    "        with open(file_path, 'r', encoding='utf-8') as file:\n",
    "            text = file.read()\n",
    "            texts = text.split(\". \")\n",
    "            countSentences = len(texts)\n",
    "            for text in texts:\n",
    "                doc = nlp(text)\n",
    "                scores = {label: doc.cats[label] for label in labels}\n",
    "                max_label = max(scores, key=scores.get)\n",
    "                if max_label == \"Umwelt\":\n",
    "                    counterUmwelt += 1\n",
    "                if max_label == \"Bildung\":\n",
    "                    counterBildung += 1\n",
    "                if max_label == \"Gesundheit\":\n",
    "                    counterGesundheit += 1\n",
    "                if max_label == \"Wirtschaft\":\n",
    "                    counterWirtschaft += 1\n",
    "\n",
    "            csv_file_path = os.path.join(output_folder, filename.replace('.txt', '.csv'))\n",
    "            with open(csv_file_path, 'w', newline='', encoding='utf-8') as csvfile:\n",
    "                text = \"Label,Percentage\\n\"\n",
    "                for column, counter in zip([\"Bildung\", \"Wirtschaft\", \"Gesundheit\", \"Umwelt\"], [counterBildung, counterWirtschaft, counterGesundheit, counterUmwelt]):\n",
    "                    text += column + \",\" + str(round(((counter / countSentences) * 100), 2)) + \"\\n\"\n",
    "                    allParties += filename.replace('.txt', '') + \",\" + column + \",\" + str(round(((counter / countSentences) * 100), 2)) + \"\\n\"\n",
    "                text = text[:-1]\n",
    "                csvfile.write(text)\n"
   ]
  },
  {
   "cell_type": "markdown",
   "metadata": {},
   "source": [
    "### Results in a csv"
   ]
  },
  {
   "cell_type": "code",
   "execution_count": 4,
   "metadata": {},
   "outputs": [],
   "source": [
    "# write the results to a csv file\n",
    "csv_file_path = os.path.join(output_folder, 'classification_results.csv')\n",
    "with open(csv_file_path, 'w', newline='', encoding='utf-8') as csvfile:\n",
    "    allParties = allParties[:-1]\n",
    "    csvfile.write(allParties)"
   ]
  },
  {
   "cell_type": "markdown",
   "metadata": {},
   "source": [
    "### Write the results into the frontend"
   ]
  },
  {
   "cell_type": "code",
   "execution_count": 5,
   "metadata": {},
   "outputs": [
    {
     "data": {
      "text/plain": [
       "'../../frontend/src/pages/charts/data/labels'"
      ]
     },
     "execution_count": 5,
     "metadata": {},
     "output_type": "execute_result"
    }
   ],
   "source": [
    "# copy the folder to the frontend\n",
    "shutil.copytree('./labels', '../../frontend/src/pages/charts/data/labels', dirs_exist_ok=True)"
   ]
  }
 ],
 "metadata": {
  "kernelspec": {
   "display_name": "Python 3",
   "language": "python",
   "name": "python3"
  },
  "language_info": {
   "codemirror_mode": {
    "name": "ipython",
    "version": 3
   },
   "file_extension": ".py",
   "mimetype": "text/x-python",
   "name": "python",
   "nbconvert_exporter": "python",
   "pygments_lexer": "ipython3",
   "version": "3.11.7"
  }
 },
 "nbformat": 4,
 "nbformat_minor": 2
}
