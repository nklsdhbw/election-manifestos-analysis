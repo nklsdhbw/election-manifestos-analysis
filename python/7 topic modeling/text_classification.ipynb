{
 "cells": [
  {
   "cell_type": "markdown",
   "metadata": {},
   "source": [
    "# Text Classification "
   ]
  },
  {
   "cell_type": "markdown",
   "metadata": {},
   "source": [
    "### Import all bibliographies"
   ]
  },
  {
   "cell_type": "code",
   "execution_count": 14,
   "metadata": {},
   "outputs": [],
   "source": [
    "import spacy\n",
    "from spacy.util import minibatch\n",
    "from spacy.training.example import Example\n",
    "import random\n",
    "import os\n",
    "import csv\n",
    "import json\n",
    "import shutil\n",
    "from sklearn.model_selection import KFold"
   ]
  },
  {
   "cell_type": "markdown",
   "metadata": {},
   "source": [
    "### Config"
   ]
  },
  {
   "cell_type": "code",
   "execution_count": 15,
   "metadata": {},
   "outputs": [],
   "source": [
    "# path where the trained model should be saved\n",
    "\n",
    "model_dir = './trained_model'\n",
    "# load the german spaCy model\n",
    "nlp = spacy.load('de_core_news_lg')\n",
    "\n",
    "# add the text classifier to the pipeline if it doesn't exist\n",
    "if 'textcat_multilabel' not in nlp.pipe_names:\n",
    "    textcat = nlp.add_pipe('textcat_multilabel')\n",
    "else:\n",
    "    textcat = nlp.get_pipe('textcat_multilabel')\n",
    "\n",
    "# define the labels\n",
    "labels = {\"Umwelt\", \"Bildung\", \"Gesundheit\", \"Wirtschaft\"}"
   ]
  },
  {
   "cell_type": "markdown",
   "metadata": {},
   "source": [
    "### Main function with training, testing, evaluation and cross validation"
   ]
  },
  {
   "cell_type": "code",
   "execution_count": 16,
   "metadata": {},
   "outputs": [
    {
     "name": "stdout",
     "output_type": "stream",
     "text": [
      "Verluste im Fold 1, Iteration 0: {'tok2vec': 0.0, 'tagger': 0.0, 'morphologizer': 0.0, 'parser': 0.0, 'lemmatizer': 0.0, 'ner': 0.0, 'textcat_multilabel': 37.255113361244526}\n",
      "Verluste im Fold 1, Iteration 1: {'tok2vec': 0.0, 'tagger': 0.0, 'morphologizer': 0.0, 'parser': 0.0, 'lemmatizer': 0.0, 'ner': 0.0, 'textcat_multilabel': 7.6698653678516}\n",
      "Verluste im Fold 1, Iteration 2: {'tok2vec': 0.0, 'tagger': 0.0, 'morphologizer': 0.0, 'parser': 0.0, 'lemmatizer': 0.0, 'ner': 0.0, 'textcat_multilabel': 3.5171978597967666}\n",
      "Verluste im Fold 1, Iteration 3: {'tok2vec': 0.0, 'tagger': 0.0, 'morphologizer': 0.0, 'parser': 0.0, 'lemmatizer': 0.0, 'ner': 0.0, 'textcat_multilabel': 2.4596295098054526}\n",
      "Verluste im Fold 1, Iteration 4: {'tok2vec': 0.0, 'tagger': 0.0, 'morphologizer': 0.0, 'parser': 0.0, 'lemmatizer': 0.0, 'ner': 0.0, 'textcat_multilabel': 1.8127355250003347}\n",
      "Verluste im Fold 1, Iteration 5: {'tok2vec': 0.0, 'tagger': 0.0, 'morphologizer': 0.0, 'parser': 0.0, 'lemmatizer': 0.0, 'ner': 0.0, 'textcat_multilabel': 0.86876226684244}\n",
      "Verluste im Fold 1, Iteration 6: {'tok2vec': 0.0, 'tagger': 0.0, 'morphologizer': 0.0, 'parser': 0.0, 'lemmatizer': 0.0, 'ner': 0.0, 'textcat_multilabel': 3.1089136073267034}\n",
      "Verluste im Fold 1, Iteration 7: {'tok2vec': 0.0, 'tagger': 0.0, 'morphologizer': 0.0, 'parser': 0.0, 'lemmatizer': 0.0, 'ner': 0.0, 'textcat_multilabel': 1.8022870803541322}\n",
      "Verluste im Fold 1, Iteration 8: {'tok2vec': 0.0, 'tagger': 0.0, 'morphologizer': 0.0, 'parser': 0.0, 'lemmatizer': 0.0, 'ner': 0.0, 'textcat_multilabel': 0.6531064912821507}\n",
      "Verluste im Fold 1, Iteration 9: {'tok2vec': 0.0, 'tagger': 0.0, 'morphologizer': 0.0, 'parser': 0.0, 'lemmatizer': 0.0, 'ner': 0.0, 'textcat_multilabel': 1.1291676181005195}\n"
     ]
    },
    {
     "name": "stderr",
     "output_type": "stream",
     "text": [
      "/Users/niklas/election-manifestos-analysis/python/nlp/lib/python3.11/site-packages/spacy/pipeline/attributeruler.py:149: UserWarning: [W036] The component 'matcher' does not have any patterns defined.\n",
      "  matches = self.matcher(doc, allow_missing=True, as_spans=False)\n"
     ]
    },
    {
     "name": "stdout",
     "output_type": "stream",
     "text": [
      "Evaluierungsergebnisse für Fold 1: {'token_acc': 1.0, 'token_p': 1.0, 'token_r': 1.0, 'token_f': 1.0, 'tag_acc': None, 'pos_acc': None, 'morph_acc': None, 'morph_micro_p': None, 'morph_micro_r': None, 'morph_micro_f': None, 'morph_per_feat': None, 'sents_p': None, 'sents_r': None, 'sents_f': None, 'dep_uas': None, 'dep_las': None, 'dep_las_per_type': None, 'lemma_acc': None, 'ents_p': None, 'ents_r': None, 'ents_f': None, 'ents_per_type': None, 'cats_score': 0.988310106073264, 'cats_score_desc': 'macro AUC', 'cats_micro_p': 0.925, 'cats_micro_r': 0.925, 'cats_micro_f': 0.925, 'cats_macro_p': 0.9354166666666666, 'cats_macro_r': 0.9244949494949494, 'cats_macro_f': 0.9267984466513879, 'cats_macro_auc': 0.988310106073264, 'cats_f_per_type': {'Gesundheit': {'p': 1.0, 'r': 0.9090909090909091, 'f': 0.9523809523809523}, 'Bildung': {'p': 0.7916666666666666, 'r': 0.95, 'f': 0.8636363636363635}, 'Wirtschaft': {'p': 0.95, 'r': 0.95, 'f': 0.9500000000000001}, 'Umwelt': {'p': 1.0, 'r': 0.8888888888888888, 'f': 0.9411764705882353}}, 'cats_auc_per_type': {'Gesundheit': 0.9957912457912458, 'Bildung': 0.9866071428571429, 'Wirtschaft': 0.9991071428571429, 'Umwelt': 0.9717348927875243}, 'speed': 5115.297835410285}\n",
      "Verluste im Fold 2, Iteration 0: {'tok2vec': 0.0, 'tagger': 0.0, 'morphologizer': 0.0, 'parser': 0.0, 'lemmatizer': 0.0, 'ner': 0.0, 'textcat_multilabel': 27.092629607415574}\n",
      "Verluste im Fold 2, Iteration 1: {'tok2vec': 0.0, 'tagger': 0.0, 'morphologizer': 0.0, 'parser': 0.0, 'lemmatizer': 0.0, 'ner': 0.0, 'textcat_multilabel': 9.015577042641922}\n",
      "Verluste im Fold 2, Iteration 2: {'tok2vec': 0.0, 'tagger': 0.0, 'morphologizer': 0.0, 'parser': 0.0, 'lemmatizer': 0.0, 'ner': 0.0, 'textcat_multilabel': 5.58681766735765}\n",
      "Verluste im Fold 2, Iteration 3: {'tok2vec': 0.0, 'tagger': 0.0, 'morphologizer': 0.0, 'parser': 0.0, 'lemmatizer': 0.0, 'ner': 0.0, 'textcat_multilabel': 3.2492053699615315}\n",
      "Verluste im Fold 2, Iteration 4: {'tok2vec': 0.0, 'tagger': 0.0, 'morphologizer': 0.0, 'parser': 0.0, 'lemmatizer': 0.0, 'ner': 0.0, 'textcat_multilabel': 2.3066912663601187}\n",
      "Verluste im Fold 2, Iteration 5: {'tok2vec': 0.0, 'tagger': 0.0, 'morphologizer': 0.0, 'parser': 0.0, 'lemmatizer': 0.0, 'ner': 0.0, 'textcat_multilabel': 2.0796119886180553}\n",
      "Verluste im Fold 2, Iteration 6: {'tok2vec': 0.0, 'tagger': 0.0, 'morphologizer': 0.0, 'parser': 0.0, 'lemmatizer': 0.0, 'ner': 0.0, 'textcat_multilabel': 1.6765503803962554}\n",
      "Verluste im Fold 2, Iteration 7: {'tok2vec': 0.0, 'tagger': 0.0, 'morphologizer': 0.0, 'parser': 0.0, 'lemmatizer': 0.0, 'ner': 0.0, 'textcat_multilabel': 1.614323186406109}\n",
      "Verluste im Fold 2, Iteration 8: {'tok2vec': 0.0, 'tagger': 0.0, 'morphologizer': 0.0, 'parser': 0.0, 'lemmatizer': 0.0, 'ner': 0.0, 'textcat_multilabel': 1.6070027571084697}\n",
      "Verluste im Fold 2, Iteration 9: {'tok2vec': 0.0, 'tagger': 0.0, 'morphologizer': 0.0, 'parser': 0.0, 'lemmatizer': 0.0, 'ner': 0.0, 'textcat_multilabel': 1.244677384872371}\n",
      "Evaluierungsergebnisse für Fold 2: {'token_acc': 1.0, 'token_p': 1.0, 'token_r': 1.0, 'token_f': 1.0, 'tag_acc': None, 'pos_acc': None, 'morph_acc': None, 'morph_micro_p': None, 'morph_micro_r': None, 'morph_micro_f': None, 'morph_per_feat': None, 'sents_p': None, 'sents_r': None, 'sents_f': None, 'dep_uas': None, 'dep_las': None, 'dep_las_per_type': None, 'lemma_acc': None, 'ents_p': None, 'ents_r': None, 'ents_f': None, 'ents_per_type': None, 'cats_score': 0.9966035545069478, 'cats_score_desc': 'macro AUC', 'cats_micro_p': 0.9733333333333334, 'cats_micro_r': 0.9240506329113924, 'cats_micro_f': 0.948051948051948, 'cats_macro_p': 0.971875, 'cats_macro_r': 0.9235047846889952, 'cats_macro_f': 0.9459717607973422, 'cats_macro_auc': 0.9966035545069478, 'cats_f_per_type': {'Gesundheit': {'p': 1.0, 'r': 1.0, 'f': 1.0}, 'Bildung': {'p': 0.9375, 'r': 0.7894736842105263, 'f': 0.8571428571428572}, 'Wirtschaft': {'p': 0.95, 'r': 0.95, 'f': 0.9500000000000001}, 'Umwelt': {'p': 1.0, 'r': 0.9545454545454546, 'f': 0.9767441860465117}}, 'cats_auc_per_type': {'Gesundheit': 1.0, 'Bildung': 0.9926131117266852, 'Wirtschaft': 0.994642857142857, 'Umwelt': 0.9991582491582491}, 'speed': 5688.273256597644}\n",
      "Verluste im Fold 3, Iteration 0: {'tok2vec': 0.0, 'tagger': 0.0, 'morphologizer': 0.0, 'parser': 0.0, 'lemmatizer': 0.0, 'ner': 0.0, 'textcat_multilabel': 33.53701928407827}\n",
      "Verluste im Fold 3, Iteration 1: {'tok2vec': 0.0, 'tagger': 0.0, 'morphologizer': 0.0, 'parser': 0.0, 'lemmatizer': 0.0, 'ner': 0.0, 'textcat_multilabel': 9.286589611722256}\n",
      "Verluste im Fold 3, Iteration 2: {'tok2vec': 0.0, 'tagger': 0.0, 'morphologizer': 0.0, 'parser': 0.0, 'lemmatizer': 0.0, 'ner': 0.0, 'textcat_multilabel': 4.265822415358144}\n",
      "Verluste im Fold 3, Iteration 3: {'tok2vec': 0.0, 'tagger': 0.0, 'morphologizer': 0.0, 'parser': 0.0, 'lemmatizer': 0.0, 'ner': 0.0, 'textcat_multilabel': 2.5123227460477757}\n",
      "Verluste im Fold 3, Iteration 4: {'tok2vec': 0.0, 'tagger': 0.0, 'morphologizer': 0.0, 'parser': 0.0, 'lemmatizer': 0.0, 'ner': 0.0, 'textcat_multilabel': 2.333754322906298}\n",
      "Verluste im Fold 3, Iteration 5: {'tok2vec': 0.0, 'tagger': 0.0, 'morphologizer': 0.0, 'parser': 0.0, 'lemmatizer': 0.0, 'ner': 0.0, 'textcat_multilabel': 1.3143011643035718}\n",
      "Verluste im Fold 3, Iteration 6: {'tok2vec': 0.0, 'tagger': 0.0, 'morphologizer': 0.0, 'parser': 0.0, 'lemmatizer': 0.0, 'ner': 0.0, 'textcat_multilabel': 1.1841963054998947}\n",
      "Verluste im Fold 3, Iteration 7: {'tok2vec': 0.0, 'tagger': 0.0, 'morphologizer': 0.0, 'parser': 0.0, 'lemmatizer': 0.0, 'ner': 0.0, 'textcat_multilabel': 1.4874029698995632}\n",
      "Verluste im Fold 3, Iteration 8: {'tok2vec': 0.0, 'tagger': 0.0, 'morphologizer': 0.0, 'parser': 0.0, 'lemmatizer': 0.0, 'ner': 0.0, 'textcat_multilabel': 0.7900589604793118}\n",
      "Verluste im Fold 3, Iteration 9: {'tok2vec': 0.0, 'tagger': 0.0, 'morphologizer': 0.0, 'parser': 0.0, 'lemmatizer': 0.0, 'ner': 0.0, 'textcat_multilabel': 1.265253408394195}\n",
      "Evaluierungsergebnisse für Fold 3: {'token_acc': 1.0, 'token_p': 1.0, 'token_r': 1.0, 'token_f': 1.0, 'tag_acc': None, 'pos_acc': None, 'morph_acc': None, 'morph_micro_p': None, 'morph_micro_r': None, 'morph_micro_f': None, 'morph_per_feat': None, 'sents_p': None, 'sents_r': None, 'sents_f': None, 'dep_uas': None, 'dep_las': None, 'dep_las_per_type': None, 'lemma_acc': None, 'ents_p': None, 'ents_r': None, 'ents_f': None, 'ents_per_type': None, 'cats_score': 0.9988559466848941, 'cats_score_desc': 'macro AUC', 'cats_micro_p': 0.9864864864864865, 'cats_micro_r': 0.9605263157894737, 'cats_micro_f': 0.9733333333333333, 'cats_macro_p': 0.9868421052631579, 'cats_macro_r': 0.9618421052631578, 'cats_macro_f': 0.9733285917496444, 'cats_macro_auc': 0.9988559466848941, 'cats_f_per_type': {'Gesundheit': {'p': 0.9473684210526315, 'r': 1.0, 'f': 0.972972972972973}, 'Bildung': {'p': 1.0, 'r': 0.9, 'f': 0.9473684210526316}, 'Wirtschaft': {'p': 1.0, 'r': 0.9473684210526315, 'f': 0.972972972972973}, 'Umwelt': {'p': 1.0, 'r': 1.0, 'f': 1.0}}, 'cats_auc_per_type': {'Gesundheit': 1.0, 'Bildung': 0.9963636363636365, 'Wirtschaft': 0.9990601503759398, 'Umwelt': 1.0}, 'speed': 5702.822757716306}\n",
      "Verluste im Fold 4, Iteration 0: {'tok2vec': 0.0, 'tagger': 0.0, 'morphologizer': 0.0, 'parser': 0.0, 'lemmatizer': 0.0, 'ner': 0.0, 'textcat_multilabel': 31.51479924765681}\n",
      "Verluste im Fold 4, Iteration 1: {'tok2vec': 0.0, 'tagger': 0.0, 'morphologizer': 0.0, 'parser': 0.0, 'lemmatizer': 0.0, 'ner': 0.0, 'textcat_multilabel': 5.925487451994968}\n",
      "Verluste im Fold 4, Iteration 2: {'tok2vec': 0.0, 'tagger': 0.0, 'morphologizer': 0.0, 'parser': 0.0, 'lemmatizer': 0.0, 'ner': 0.0, 'textcat_multilabel': 4.1568722989177616}\n",
      "Verluste im Fold 4, Iteration 3: {'tok2vec': 0.0, 'tagger': 0.0, 'morphologizer': 0.0, 'parser': 0.0, 'lemmatizer': 0.0, 'ner': 0.0, 'textcat_multilabel': 2.1127208617575377}\n",
      "Verluste im Fold 4, Iteration 4: {'tok2vec': 0.0, 'tagger': 0.0, 'morphologizer': 0.0, 'parser': 0.0, 'lemmatizer': 0.0, 'ner': 0.0, 'textcat_multilabel': 1.5628504736398767}\n",
      "Verluste im Fold 4, Iteration 5: {'tok2vec': 0.0, 'tagger': 0.0, 'morphologizer': 0.0, 'parser': 0.0, 'lemmatizer': 0.0, 'ner': 0.0, 'textcat_multilabel': 1.6138597828109802}\n",
      "Verluste im Fold 4, Iteration 6: {'tok2vec': 0.0, 'tagger': 0.0, 'morphologizer': 0.0, 'parser': 0.0, 'lemmatizer': 0.0, 'ner': 0.0, 'textcat_multilabel': 0.9370675420809513}\n",
      "Verluste im Fold 4, Iteration 7: {'tok2vec': 0.0, 'tagger': 0.0, 'morphologizer': 0.0, 'parser': 0.0, 'lemmatizer': 0.0, 'ner': 0.0, 'textcat_multilabel': 1.2384034457558852}\n",
      "Verluste im Fold 4, Iteration 8: {'tok2vec': 0.0, 'tagger': 0.0, 'morphologizer': 0.0, 'parser': 0.0, 'lemmatizer': 0.0, 'ner': 0.0, 'textcat_multilabel': 0.36531627308124925}\n",
      "Verluste im Fold 4, Iteration 9: {'tok2vec': 0.0, 'tagger': 0.0, 'morphologizer': 0.0, 'parser': 0.0, 'lemmatizer': 0.0, 'ner': 0.0, 'textcat_multilabel': 1.1172850927705442}\n",
      "Evaluierungsergebnisse für Fold 4: {'token_acc': 1.0, 'token_p': 1.0, 'token_r': 1.0, 'token_f': 1.0, 'tag_acc': None, 'pos_acc': None, 'morph_acc': None, 'morph_micro_p': None, 'morph_micro_r': None, 'morph_micro_f': None, 'morph_per_feat': None, 'sents_p': None, 'sents_r': None, 'sents_f': None, 'dep_uas': None, 'dep_las': None, 'dep_las_per_type': None, 'lemma_acc': None, 'ents_p': None, 'ents_r': None, 'ents_f': None, 'ents_per_type': None, 'cats_score': 0.9859415082050474, 'cats_score_desc': 'macro AUC', 'cats_micro_p': 0.9358974358974359, 'cats_micro_r': 0.9125, 'cats_micro_f': 0.9240506329113924, 'cats_macro_p': 0.9346595655806181, 'cats_macro_r': 0.9158040027605244, 'cats_macro_f': 0.9244455098113633, 'cats_macro_auc': 0.9859415082050474, 'cats_f_per_type': {'Gesundheit': {'p': 0.95, 'r': 0.9047619047619048, 'f': 0.9268292682926829}, 'Bildung': {'p': 0.8888888888888888, 'r': 0.8888888888888888, 'f': 0.8888888888888888}, 'Wirtschaft': {'p': 0.9523809523809523, 'r': 0.8695652173913043, 'f': 0.909090909090909}, 'Umwelt': {'p': 0.9473684210526315, 'r': 1.0, 'f': 0.972972972972973}}, 'cats_auc_per_type': {'Gesundheit': 0.9955908289241622, 'Bildung': 0.9834307992202729, 'Wirtschaft': 0.9657190635451506, 'Umwelt': 0.9990253411306044}, 'speed': 5733.542472798741}\n",
      "Verluste im Fold 5, Iteration 0: {'tok2vec': 0.0, 'tagger': 0.0, 'morphologizer': 0.0, 'parser': 0.0, 'lemmatizer': 0.0, 'ner': 0.0, 'textcat_multilabel': 29.418518893263695}\n",
      "Verluste im Fold 5, Iteration 1: {'tok2vec': 0.0, 'tagger': 0.0, 'morphologizer': 0.0, 'parser': 0.0, 'lemmatizer': 0.0, 'ner': 0.0, 'textcat_multilabel': 6.538127042142827}\n",
      "Verluste im Fold 5, Iteration 2: {'tok2vec': 0.0, 'tagger': 0.0, 'morphologizer': 0.0, 'parser': 0.0, 'lemmatizer': 0.0, 'ner': 0.0, 'textcat_multilabel': 4.182635399172192}\n",
      "Verluste im Fold 5, Iteration 3: {'tok2vec': 0.0, 'tagger': 0.0, 'morphologizer': 0.0, 'parser': 0.0, 'lemmatizer': 0.0, 'ner': 0.0, 'textcat_multilabel': 2.250424212127589}\n",
      "Verluste im Fold 5, Iteration 4: {'tok2vec': 0.0, 'tagger': 0.0, 'morphologizer': 0.0, 'parser': 0.0, 'lemmatizer': 0.0, 'ner': 0.0, 'textcat_multilabel': 2.1426453922060924}\n",
      "Verluste im Fold 5, Iteration 5: {'tok2vec': 0.0, 'tagger': 0.0, 'morphologizer': 0.0, 'parser': 0.0, 'lemmatizer': 0.0, 'ner': 0.0, 'textcat_multilabel': 1.7979592772473054}\n",
      "Verluste im Fold 5, Iteration 6: {'tok2vec': 0.0, 'tagger': 0.0, 'morphologizer': 0.0, 'parser': 0.0, 'lemmatizer': 0.0, 'ner': 0.0, 'textcat_multilabel': 1.106958641502221}\n",
      "Verluste im Fold 5, Iteration 7: {'tok2vec': 0.0, 'tagger': 0.0, 'morphologizer': 0.0, 'parser': 0.0, 'lemmatizer': 0.0, 'ner': 0.0, 'textcat_multilabel': 1.4931605951062101}\n",
      "Verluste im Fold 5, Iteration 8: {'tok2vec': 0.0, 'tagger': 0.0, 'morphologizer': 0.0, 'parser': 0.0, 'lemmatizer': 0.0, 'ner': 0.0, 'textcat_multilabel': 1.818556262367271}\n",
      "Verluste im Fold 5, Iteration 9: {'tok2vec': 0.0, 'tagger': 0.0, 'morphologizer': 0.0, 'parser': 0.0, 'lemmatizer': 0.0, 'ner': 0.0, 'textcat_multilabel': 1.481327918050155}\n",
      "Evaluierungsergebnisse für Fold 5: {'token_acc': 1.0, 'token_p': 1.0, 'token_r': 1.0, 'token_f': 1.0, 'tag_acc': None, 'pos_acc': None, 'morph_acc': None, 'morph_micro_p': None, 'morph_micro_r': None, 'morph_micro_f': None, 'morph_per_feat': None, 'sents_p': None, 'sents_r': None, 'sents_f': None, 'dep_uas': None, 'dep_las': None, 'dep_las_per_type': None, 'lemma_acc': None, 'ents_p': None, 'ents_r': None, 'ents_f': None, 'ents_per_type': None, 'cats_score': 0.9931389365351629, 'cats_score_desc': 'macro AUC', 'cats_micro_p': 0.961038961038961, 'cats_micro_r': 0.961038961038961, 'cats_micro_f': 0.961038961038961, 'cats_macro_p': 0.9568452380952381, 'cats_macro_r': 0.9633838383838385, 'cats_macro_f': 0.95874861572536, 'cats_macro_auc': 0.9931389365351629, 'cats_f_per_type': {'Gesundheit': {'p': 0.875, 'r': 1.0, 'f': 0.9333333333333333}, 'Bildung': {'p': 0.9523809523809523, 'r': 0.9090909090909091, 'f': 0.9302325581395349}, 'Wirtschaft': {'p': 1.0, 'r': 0.9444444444444444, 'f': 0.9714285714285714}, 'Umwelt': {'p': 1.0, 'r': 1.0, 'f': 1.0}}, 'cats_auc_per_type': {'Gesundheit': 1.0, 'Bildung': 0.9725557461406518, 'Wirtschaft': 1.0, 'Umwelt': 1.0}, 'speed': 5769.427037360792}\n",
      "Evaluation results: {'token_acc': 1.0, 'token_p': 1.0, 'token_r': 1.0, 'token_f': 1.0, 'tag_acc': None, 'pos_acc': None, 'morph_acc': None, 'morph_micro_p': None, 'morph_micro_r': None, 'morph_micro_f': None, 'morph_per_feat': None, 'sents_p': None, 'sents_r': None, 'sents_f': None, 'dep_uas': None, 'dep_las': None, 'dep_las_per_type': None, 'lemma_acc': None, 'ents_p': None, 'ents_r': None, 'ents_f': None, 'ents_per_type': None, 'cats_score': 0.9931389365351629, 'cats_score_desc': 'macro AUC', 'cats_micro_p': 0.961038961038961, 'cats_micro_r': 0.961038961038961, 'cats_micro_f': 0.961038961038961, 'cats_macro_p': 0.9568452380952381, 'cats_macro_r': 0.9633838383838385, 'cats_macro_f': 0.95874861572536, 'cats_macro_auc': 0.9931389365351629, 'cats_f_per_type': {'Gesundheit': {'p': 0.875, 'r': 1.0, 'f': 0.9333333333333333}, 'Bildung': {'p': 0.9523809523809523, 'r': 0.9090909090909091, 'f': 0.9302325581395349}, 'Wirtschaft': {'p': 1.0, 'r': 0.9444444444444444, 'f': 0.9714285714285714}, 'Umwelt': {'p': 1.0, 'r': 1.0, 'f': 1.0}}, 'cats_auc_per_type': {'Gesundheit': 1.0, 'Bildung': 0.9725557461406518, 'Wirtschaft': 1.0, 'Umwelt': 1.0}, 'speed': 5769.427037360792}\n",
      "Start processing files\n",
      "Start processing files\n",
      "Start processing files\n",
      "Start processing files\n",
      "Start processing files\n",
      "Start processing files\n"
     ]
    }
   ],
   "source": [
    "# proof if model already exists\n",
    "if os.path.exists(model_dir):\n",
    "    nlp = spacy.load(model_dir)\n",
    "else:\n",
    "    os.mkdir(model_dir)\n",
    "    for label in labels:\n",
    "        textcat.add_label(label)\n",
    "\n",
    "    # path to the json file with the training data\n",
    "    file_path = './training_data.json'\n",
    "\n",
    "    # read the training data\n",
    "    with open(file_path, 'r', encoding='utf-8') as file:\n",
    "        train_data = json.load(file)\n",
    "\n",
    "    kf = KFold(n_splits=5, shuffle=True, random_state=42)\n",
    "\n",
    "\n",
    "# cross validation\n",
    "for fold_number, (train_index, test_index) in enumerate(kf.split(train_data), start=1):\n",
    "    # Trainings- und Testdaten für diesen Fold extrahieren\n",
    "    train_fold = [train_data[i] for i in train_index]\n",
    "    test_fold = [train_data[i] for i in test_index]\n",
    "\n",
    "    # training data for this fold\n",
    "    train_examples = [Example.from_dict(nlp.make_doc(text), annotations) for text, annotations in train_fold]\n",
    "\n",
    "    # train the model for this fold\n",
    "    optimizer = nlp.begin_training()\n",
    "    for i in range(10):\n",
    "        random.shuffle(train_examples)\n",
    "        losses = {}\n",
    "        for batch in minibatch(train_examples, size=2):\n",
    "            for example in batch:\n",
    "                nlp.update([example], drop=0.2, losses=losses)\n",
    "        print(f\"Verluste im Fold {fold_number}, Iteration {i}: {losses}\")\n",
    "\n",
    "    # test data for this fold\n",
    "    test_examples = [Example.from_dict(nlp.make_doc(text), annotations) for text, annotations in test_fold]\n",
    "\n",
    "    # evaluation for this model and fold\n",
    "    scores = nlp.evaluate(test_examples)\n",
    "    print(f\"Evaluierungsergebnisse für Fold {fold_number}: {scores}\")\n",
    "\n",
    "# print the evaluation results\n",
    "print(f\"Evaluation results: {scores}\")\n",
    "\n",
    "# directory with the extracted text files\n",
    "extracted_text_directory = '../1 data_preprocessing/output'\n",
    "output_folder = './labels'\n",
    "os.makedirs(output_folder, exist_ok=True)\n",
    "allParties = \"Party,Label,Percentage\\n\"\n",
    "\n",
    "# classify the text files\n",
    "for filename in os.listdir(extracted_text_directory):\n",
    "    print(\"Start processing files\")\n",
    "    counterUmwelt = 0\n",
    "    counterBildung = 0\n",
    "    counterGesundheit = 0\n",
    "    counterWirtschaft = 0\n",
    "    if filename.endswith('.txt'):\n",
    "        file_path = os.path.join(extracted_text_directory, filename)\n",
    "        with open(file_path, 'r', encoding='utf-8') as file:\n",
    "            text = file.read()\n",
    "            texts = text.split(\". \")\n",
    "            countSentences = len(texts)\n",
    "            for text in texts:\n",
    "                doc = nlp(text)\n",
    "                scores = {label: doc.cats[label] for label in labels}\n",
    "                max_label = max(scores, key=scores.get)\n",
    "                if max_label == \"Umwelt\":\n",
    "                    counterUmwelt += 1\n",
    "                if max_label == \"Bildung\":\n",
    "                    counterBildung += 1\n",
    "                if max_label == \"Gesundheit\":\n",
    "                    counterGesundheit += 1\n",
    "                if max_label == \"Wirtschaft\":\n",
    "                    counterWirtschaft += 1\n",
    "\n",
    "            csv_file_path = os.path.join(output_folder, filename.replace('.txt', '.csv'))\n",
    "            with open(csv_file_path, 'w', newline='', encoding='utf-8') as csvfile:\n",
    "                text = \"Label,Percentage\\n\"\n",
    "                for column, counter in zip([\"Bildung\", \"Wirtschaft\", \"Gesundheit\", \"Umwelt\"], [counterBildung, counterWirtschaft, counterGesundheit, counterUmwelt]):\n",
    "                    text += column + \",\" + str(round(((counter / countSentences) * 100), 2)) + \"\\n\"\n",
    "                    allParties += filename.replace('.txt', '') + \",\" + column + \",\" + str(round(((counter / countSentences) * 100), 2)) + \"\\n\"\n",
    "                text = text[:-1]\n",
    "                csvfile.write(text)\n"
   ]
  },
  {
   "cell_type": "markdown",
   "metadata": {},
   "source": [
    "### Results in a csv"
   ]
  },
  {
   "cell_type": "code",
   "execution_count": 12,
   "metadata": {},
   "outputs": [],
   "source": [
    "# write the results to a csv file\n",
    "csv_file_path = os.path.join(output_folder, 'classification_results.csv')\n",
    "with open(csv_file_path, 'w', newline='', encoding='utf-8') as csvfile:\n",
    "    allParties = allParties[:-1]\n",
    "    csvfile.write(allParties)"
   ]
  },
  {
   "cell_type": "markdown",
   "metadata": {},
   "source": [
    "### Write the results into the frontend"
   ]
  },
  {
   "cell_type": "code",
   "execution_count": 13,
   "metadata": {},
   "outputs": [
    {
     "data": {
      "text/plain": [
       "'../../frontend/src/pages/charts/data/labels'"
      ]
     },
     "execution_count": 13,
     "metadata": {},
     "output_type": "execute_result"
    }
   ],
   "source": [
    "# copy the folder to the frontend\n",
    "shutil.copytree('./labels', '../../frontend/src/pages/charts/data/labels', dirs_exist_ok=True)"
   ]
  }
 ],
 "metadata": {
  "kernelspec": {
   "display_name": "Python 3",
   "language": "python",
   "name": "python3"
  },
  "language_info": {
   "name": "python",
   "version": "3.11.7"
  }
 },
 "nbformat": 4,
 "nbformat_minor": 2
}
