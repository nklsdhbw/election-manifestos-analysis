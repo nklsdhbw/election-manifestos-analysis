{
 "cells": [
  {
   "cell_type": "markdown",
   "metadata": {},
   "source": [
    "# **Imports**"
   ]
  },
  {
   "cell_type": "code",
   "execution_count": 1,
   "metadata": {},
   "outputs": [],
   "source": [
    "import os\n",
    "import nltk\n",
    "import chardet\n",
    "from sumy.parsers.plaintext import PlaintextParser\n",
    "from sumy.nlp.tokenizers import Tokenizer\n",
    "from sumy.summarizers.lsa import LsaSummarizer as Summarizer\n",
    "import ssl\n",
    "import shutil"
   ]
  },
  {
   "cell_type": "markdown",
   "metadata": {},
   "source": [
    "# **Configs**"
   ]
  },
  {
   "cell_type": "code",
   "execution_count": 2,
   "metadata": {},
   "outputs": [],
   "source": [
    "# paths\n",
    "INPUT_PATH = '../1 data_preprocessing/output'\n",
    "OUTPUT_PATH = './summary_output'"
   ]
  },
  {
   "cell_type": "markdown",
   "metadata": {},
   "source": [
    "# **Downlad nltk**"
   ]
  },
  {
   "cell_type": "code",
   "execution_count": 3,
   "metadata": {},
   "outputs": [
    {
     "name": "stderr",
     "output_type": "stream",
     "text": [
      "[nltk_data] Downloading package punkt to /Users/niklas/nltk_data...\n",
      "[nltk_data]   Package punkt is already up-to-date!\n"
     ]
    },
    {
     "data": {
      "text/plain": [
       "True"
      ]
     },
     "execution_count": 3,
     "metadata": {},
     "output_type": "execute_result"
    }
   ],
   "source": [
    "# using SSL to download the 'punkt' package from nltk (code from https://stackoverflow.com/questions/41348621/ssl-error-downloading-nltk-data)\n",
    "try:\n",
    "    _create_unverified_https_context = ssl._create_unverified_context\n",
    "except AttributeError:\n",
    "    pass\n",
    "else:\n",
    "    ssl._create_default_https_context = _create_unverified_https_context\n",
    "    \n",
    "# download the 'punkt' package from nltk\n",
    "nltk.download('punkt')"
   ]
  },
  {
   "cell_type": "code",
   "execution_count": 4,
   "metadata": {},
   "outputs": [],
   "source": [
    "# function to process the text files and identify the encoding\n",
    "def process_text_file(file_path, OUTPUT_PATH, language='german', summary_ratio=0.3):\n",
    "    with open(file_path, 'rb') as file:\n",
    "        raw_data = file.read()\n",
    "        result = chardet.detect(raw_data)\n",
    "        encoding = result['encoding']\n",
    "\n",
    "    # define parser and summarizer\n",
    "    with open(file_path, 'r', encoding=encoding) as file:\n",
    "        text = file.read()\n",
    "        parser = PlaintextParser.from_string(text, Tokenizer(language))\n",
    "        summarizer = Summarizer()\n",
    "\n",
    "        # compute the number of sentences in the text file to have a good ratio for the summary\n",
    "        total_sentences = len(list(parser.document.sentences))\n",
    "        summary_length = 100#int(total_sentences * summary_ratio)\n",
    "\n",
    "        # compute the summary\n",
    "        summary = summarizer(parser.document, summary_length)\n",
    "\n",
    "        # create file and ad '_summary.txt' to the name of the file\n",
    "        output_file_name = os.path.splitext(os.path.basename(file_path))[0] + '_summary.txt'\n",
    "        output_file_path = os.path.join(OUTPUT_PATH, output_file_name)\n",
    "\n",
    "        with open(output_file_path, 'w', encoding='utf-8') as output_file:\n",
    "            for sentence in summary:\n",
    "                output_file.write(str(sentence) + \"\\n\")"
   ]
  },
  {
   "cell_type": "markdown",
   "metadata": {},
   "source": [
    "# **Process all files**"
   ]
  },
  {
   "cell_type": "code",
   "execution_count": 5,
   "metadata": {},
   "outputs": [],
   "source": [
    "# create output directory if it does not exist\n",
    "if not os.path.exists(OUTPUT_PATH):\n",
    "    os.makedirs(OUTPUT_PATH)\n",
    "\n",
    "# process all text files in the input directory\n",
    "for file_name in os.listdir(INPUT_PATH):\n",
    "    if file_name.endswith('.txt'):\n",
    "        process_text_file(os.path.join(INPUT_PATH, file_name), OUTPUT_PATH)"
   ]
  },
  {
   "cell_type": "markdown",
   "metadata": {},
   "source": [
    "# **Copy files into frontend/src**"
   ]
  },
  {
   "cell_type": "code",
   "execution_count": 6,
   "metadata": {},
   "outputs": [
    {
     "data": {
      "text/plain": [
       "'../../frontend/src/pages/charts/data/summary'"
      ]
     },
     "execution_count": 6,
     "metadata": {},
     "output_type": "execute_result"
    }
   ],
   "source": [
    "# copy folder into react frontend src folder so that react can access the data\n",
    "shutil.copytree('./summary_output', '../../frontend/src/pages/charts/data/summary', dirs_exist_ok=True)"
   ]
  }
 ],
 "metadata": {
  "kernelspec": {
   "display_name": "nlp",
   "language": "python",
   "name": "python3"
  },
  "language_info": {
   "codemirror_mode": {
    "name": "ipython",
    "version": 3
   },
   "file_extension": ".py",
   "mimetype": "text/x-python",
   "name": "python",
   "nbconvert_exporter": "python",
   "pygments_lexer": "ipython3",
   "version": "3.11.7"
  }
 },
 "nbformat": 4,
 "nbformat_minor": 2
}
