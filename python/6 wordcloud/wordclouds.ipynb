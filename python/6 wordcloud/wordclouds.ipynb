{
 "cells": [
  {
   "cell_type": "markdown",
   "metadata": {},
   "source": [
    "# WordClouds"
   ]
  },
  {
   "cell_type": "markdown",
   "metadata": {},
   "source": [
    "## Imports"
   ]
  },
  {
   "cell_type": "code",
   "execution_count": 1,
   "metadata": {},
   "outputs": [],
   "source": [
    "from wordcloud import WordCloud\n",
    "import matplotlib.pyplot as plt\n",
    "import os\n",
    "import shutil"
   ]
  },
  {
   "cell_type": "markdown",
   "metadata": {},
   "source": [
    "# Configs"
   ]
  },
  {
   "cell_type": "code",
   "execution_count": 2,
   "metadata": {},
   "outputs": [],
   "source": [
    "OUTPUT_PATH = './wordclouds/'\n",
    "INPUT_PATH = '../5 top words/top_words'"
   ]
  },
  {
   "cell_type": "markdown",
   "metadata": {},
   "source": [
    "## Function to create the WordClouds"
   ]
  },
  {
   "cell_type": "code",
   "execution_count": 3,
   "metadata": {},
   "outputs": [],
   "source": [
    "def create_wordclouds():\n",
    "    if not os.path.exists(OUTPUT_PATH):\n",
    "        os.makedirs(OUTPUT_PATH)\n",
    "\n",
    "    for filename in os.listdir(INPUT_PATH):\n",
    "        if filename.endswith('.csv'):\n",
    "            file_path = os.path.join(INPUT_PATH, filename)\n",
    "            frequencies = {}\n",
    "\n",
    "            with open(file_path, 'r') as file:\n",
    "                lines = file.readlines()\n",
    "                for line in lines:\n",
    "                    parts = line.strip().split(',')\n",
    "                    if parts[0] != 'Wort':\n",
    "                        word = parts[0]\n",
    "                        count = int(parts[1])\n",
    "                        frequencies[word] = count\n",
    "\n",
    "            wordcloud = WordCloud(\n",
    "                width=1920, \n",
    "                height=1080, \n",
    "                background_color='white',\n",
    "                scale=3\n",
    "            ).generate_from_frequencies(frequencies)\n",
    "            svg = wordcloud.to_svg(\"./test.svg\")\n",
    "            svg_filename = filename.replace('.csv', '.svg')\n",
    "            svg_filename = svg_filename.replace(\"_top_worte\", \"_wordcloud\")\n",
    "\n",
    "            with open(OUTPUT_PATH + svg_filename, \"w\") as file:\n",
    "                file.write(svg)\n",
    "create_wordclouds()"
   ]
  },
  {
   "cell_type": "markdown",
   "metadata": {},
   "source": [
    "## Copy the output folder to the frontend"
   ]
  },
  {
   "cell_type": "code",
   "execution_count": 4,
   "metadata": {},
   "outputs": [
    {
     "data": {
      "text/plain": [
       "'../../frontend/src/pages/charts/data/wordclouds'"
      ]
     },
     "execution_count": 4,
     "metadata": {},
     "output_type": "execute_result"
    }
   ],
   "source": [
    "# Copy folder into react frontend src folder so that react can access the data\n",
    "shutil.copytree('./wordclouds', '../../frontend/src/pages/charts/data/wordclouds', dirs_exist_ok=True)"
   ]
  }
 ],
 "metadata": {
  "kernelspec": {
   "display_name": "Python 3",
   "language": "python",
   "name": "python3"
  },
  "language_info": {
   "codemirror_mode": {
    "name": "ipython",
    "version": 3
   },
   "file_extension": ".py",
   "mimetype": "text/x-python",
   "name": "python",
   "nbconvert_exporter": "python",
   "pygments_lexer": "ipython3",
   "version": "3.12.0"
  }
 },
 "nbformat": 4,
 "nbformat_minor": 2
}
